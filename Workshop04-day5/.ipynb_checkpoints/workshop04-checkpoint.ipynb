{
 "cells": [
  {
   "cell_type": "markdown",
   "metadata": {
    "colab_type": "text",
    "id": "lGHFNAUxQYgm"
   },
   "source": [
    "# Module 2:\n",
    "Make API call\n",
    "- Collect data from API &amp; store in csv\n",
    "- Scrape static websites &amp; store in csv\n",
    "---\n",
    "Scenario\n",
    "---\n",
    "\n",
    "1. You have been given a API with api documentation.\n",
    "2. Make api call from python & store the resp in a python dict\n",
    "2. (2A) *Optional*: Store the resp dict into a file (json)\n",
    "\n",
    "3. Parse the following info from the API Response.\n",
    "\n",
    "Example: URL \n",
    "\n",
    "https://min-api.cryptocompare.com/data/price?fsym=USD&tsyms=JPY,INR\n",
    "```\n",
    "{\n",
    "\"JPY\": 107.93,\n",
    "\"INR\": 84.82\n",
    "}\n",
    "```\n",
    "4. Store that parsed infomation/data into a csv file.\n",
    "\n",
    "| sno | from_symbol | to_symbol | price | datetime |\n",
    "| ---  | ---  | ---  | ---  | --- |\n",
    "| 1 | USD | INR | 71 | ... |\n",
    "| 2 | USD | SGD | 1.37| ... |\n",
    "\n",
    "use python `time` or `datetime` module to get the current time, when you make api call and store that into the csv file..\n"
   ]
  },
  {
   "cell_type": "code",
   "execution_count": 0,
   "metadata": {
    "colab": {},
    "colab_type": "code",
    "id": "b0mJn9GQjH9K"
   },
   "outputs": [],
   "source": [
    "# Code here"
   ]
  },
  {
   "cell_type": "code",
   "execution_count": 30,
   "metadata": {},
   "outputs": [],
   "source": [
    "import requests\n",
    "from datetime import datetime\n",
    "import pandas as pd\n",
    "\n",
    "def get_data_from_api(fsym, tsym):\n",
    "    url = f\"https://min-api.cryptocompare.com/data/price?fsym={fsym}&tsyms={tsym}\"\n",
    "    resp = requests.get(url)\n",
    "    data = resp.json()\n",
    "    \n",
    "    tsyms_list = tsym.split(\",\")\n",
    "    \n",
    "    records = []\n",
    "    for tsym_item in tsyms_list:\n",
    "        record = {\n",
    "            \"from_symbol\": fsym,\n",
    "            \"to_symbol\": tsym_item,\n",
    "            \"price\": data[tsym_item],\n",
    "            \"datetime\": str(datetime.now())\n",
    "        }\n",
    "        records.append(record)\n",
    "    \n",
    "    return records\n",
    "\n",
    "def save_records_to_csv(records, fname=\"price.csv\",mode=\"a\",header=False,index=False):\n",
    "    df = pd.DataFrame(records)\n",
    "    df.to_csv(fname, mode=mode, index=index,header=header)"
   ]
  },
  {
   "cell_type": "code",
   "execution_count": 31,
   "metadata": {},
   "outputs": [],
   "source": [
    "records = get_data_from_api('USD', 'JPY,INR')\n",
    "save_records_to_csv(records,mode=\"w\", header=True)"
   ]
  },
  {
   "cell_type": "markdown",
   "metadata": {
    "colab": {},
    "colab_type": "code",
    "id": "26BMUZv-j4eZ"
   },
   "source": [
    "## Part 2: Scrape static websites\n",
    "\n",
    "\n",
    "https://www.exchange-rates.org/converter/USD/EUR/1\n",
    "\n",
    "\n",
    "Have a look at the html as well, to parse the exchange rate.\n",
    "\n",
    "![https://i.imgur.com/z87bNYj.png](https://i.imgur.com/z87bNYj.png)\n",
    "\n",
    "1. Look at the URL `path parameter` and decide how to pass inputs..\n",
    "2. Use `bs4` library to parse the html as show below.\n",
    "3. You have to extract the price shown here and save it into a csv file..\n",
    "\n",
    "| sno | from_symbol | to_symbol | price | datetime |\n",
    "| ---  | ---  | ---  | ---  | --- |\n",
    "| 1 | USD | EUR | 0.9017| ... |\n",
    "\n",
    "--- \n"
   ]
  },
  {
   "cell_type": "code",
   "execution_count": 34,
   "metadata": {},
   "outputs": [],
   "source": [
    "from bs4 import BeautifulSoup\n",
    "\n",
    "def get_data_from_website(fsym, tsym):\n",
    "    url = f\"https://www.exchange-rates.org/converter/{fsym}/{tsym}/1\"\n",
    "    resp = requests.get(url)\n",
    "    data = resp.text\n",
    "    soup =BeautifulSoup(data)\n",
    "    \n",
    "    spantag = soup.find(\"span\", {\"id\": \"ctl00_M_lblToAmount\"})\n",
    "    if spantag:\n",
    "        price = float(spantag.text)\n",
    "    else:\n",
    "        price = 'na'\n",
    "        \n",
    "    records = [\n",
    "        {\n",
    "            \"from_symbol\": fsym,\n",
    "            \"to_symbol\": tsym,\n",
    "            \"price\": price,\n",
    "            \"datetime\": str(datetime.now())\n",
    "        }\n",
    "    ]\n",
    "    return records\n",
    "\n",
    "\n",
    "records = get_data_from_website(\"USD\",\"EUR\")\n",
    "#save_records_to_csv(records)\n",
    "save_records_to_csv(records,mode=\"a\", header=False)"
   ]
  },
  {
   "cell_type": "markdown",
   "metadata": {},
   "source": [
    "## Optional"
   ]
  },
  {
   "cell_type": "markdown",
   "metadata": {},
   "source": [
    "** Try this if you completed the base workshop **\n",
    "---\n",
    "1. Store the same data into mongodb as well\n",
    "  - create a `exchange` db in your mlab account.\n",
    "  - create a collection `exchange-rates`\n",
    "  - You can store sample record which looks like the following json.\n",
    "\n",
    "```\n",
    "{\n",
    "    \"from_symbol\": \"USD\",\n",
    "    'to_symbol' : \"SGD\",\n",
    "    \"price\" : 1.37,\n",
    "    \"datetime\" : \"....\"\n",
    "}\n",
    "```"
   ]
  },
  {
   "cell_type": "markdown",
   "metadata": {},
   "source": [
    "## END"
   ]
  }
 ],
 "metadata": {
  "colab": {
   "collapsed_sections": [
    "eUCYwxGUZC5S",
    "LPClnJ_vZGiu"
   ],
   "name": "Pydot Workshops.ipynb",
   "provenance": []
  },
  "kernelspec": {
   "display_name": "Python 3",
   "language": "python",
   "name": "python3"
  },
  "language_info": {
   "codemirror_mode": {
    "name": "ipython",
    "version": 3
   },
   "file_extension": ".py",
   "mimetype": "text/x-python",
   "name": "python",
   "nbconvert_exporter": "python",
   "pygments_lexer": "ipython3",
   "version": "3.7.3"
  }
 },
 "nbformat": 4,
 "nbformat_minor": 1
}
