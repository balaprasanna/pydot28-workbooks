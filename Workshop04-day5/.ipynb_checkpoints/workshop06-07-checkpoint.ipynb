{
 "cells": [
  {
   "cell_type": "markdown",
   "metadata": {
    "colab_type": "text",
    "id": "eUCYwxGUZC5S"
   },
   "source": [
    "# Module 3:\n",
    "-\n",
    "- Pick / Choose a dataset\n",
    "- Load , clean, analyze and visualize the data\n",
    "---\n",
    "## Scenario\n",
    "- You have been given a csv file (Google playstore apps datasets..)\n",
    "https://chukmunnlee.github.io/dataset/googleplaystore.csv\n",
    "- Use pandas to load the data\n",
    "  - Do data clean if necessary\n",
    "  - Do an exploratory data analysis (Visualize different columns )\n",
    "  - Get summary stats...\n",
    "\n",
    "  - Analyze the dataset and answer the following questions with appropriate visualization technique\n",
    "    - *Please see the Google Playstore Q/A Notebook for more info...*"
   ]
  },
  {
   "cell_type": "code",
   "execution_count": 0,
   "metadata": {
    "colab": {},
    "colab_type": "code",
    "id": "vnXrQ1h_ZHC7"
   },
   "outputs": [],
   "source": [
    "# Code here"
   ]
  },
  {
   "cell_type": "code",
   "execution_count": 0,
   "metadata": {
    "colab": {},
    "colab_type": "code",
    "id": "26BMUZv-j4eZ"
   },
   "outputs": [],
   "source": []
  }
 ],
 "metadata": {
  "colab": {
   "collapsed_sections": [
    "eUCYwxGUZC5S",
    "LPClnJ_vZGiu"
   ],
   "name": "Pydot Workshops.ipynb",
   "provenance": []
  },
  "kernelspec": {
   "display_name": "Python 3",
   "language": "python",
   "name": "python3"
  },
  "language_info": {
   "codemirror_mode": {
    "name": "ipython",
    "version": 3
   },
   "file_extension": ".py",
   "mimetype": "text/x-python",
   "name": "python",
   "nbconvert_exporter": "python",
   "pygments_lexer": "ipython3",
   "version": "3.7.3"
  }
 },
 "nbformat": 4,
 "nbformat_minor": 1
}
