{
 "cells": [
  {
   "cell_type": "markdown",
   "metadata": {},
   "source": [
    "## Agenda for Day 2: Part 1(session 1)\n",
    "- Date: 03/02/2020 Evening 6:30-10:00\n",
    "\n",
    "\n",
    "---\n",
    "- functions\n",
    "- list  - intro to data-structures"
   ]
  },
  {
   "cell_type": "code",
   "execution_count": 3,
   "metadata": {},
   "outputs": [],
   "source": [
    "## revisit loops"
   ]
  },
  {
   "cell_type": "code",
   "execution_count": 4,
   "metadata": {},
   "outputs": [],
   "source": [
    "# while\n",
    "# for"
   ]
  },
  {
   "cell_type": "code",
   "execution_count": 12,
   "metadata": {},
   "outputs": [
    {
     "name": "stdout",
     "output_type": "stream",
     "text": [
      "Enter the total no of values:3\n",
      "Enter the value 010\n",
      "Enter the value 120\n",
      "Enter the value 230\n",
      "Total : 60\n"
     ]
    }
   ],
   "source": [
    "num = input(\"Enter the total no of values:\")\n",
    "num = int(num)\n",
    "\n",
    "index = 0\n",
    "acc = 0\n",
    "while index < num:\n",
    "    #collect input from the user\n",
    "    cur = int(input(f\"Enter the value {index}\"))\n",
    "    acc += cur\n",
    "    index += 1\n",
    "\n",
    "print(\"Total :\", acc)"
   ]
  },
  {
   "cell_type": "code",
   "execution_count": 11,
   "metadata": {},
   "outputs": [
    {
     "name": "stdout",
     "output_type": "stream",
     "text": [
      "Enter the total no of values:3\n",
      "Enter the value 010\n",
      "Enter the value 120\n",
      "Enter the value 230\n",
      "Total : 60\n"
     ]
    }
   ],
   "source": [
    "num = input(\"Enter the total no of values:\")\n",
    "num = int(num)\n",
    "acc = 0\n",
    "for index in range(num):\n",
    "    cur = int(input(f\"Enter the value {index}\"))\n",
    "    acc += cur\n",
    "print(\"Total :\", acc)"
   ]
  },
  {
   "cell_type": "code",
   "execution_count": 47,
   "metadata": {},
   "outputs": [],
   "source": [
    "# def welcome():\n",
    "#     pass\n",
    "\n",
    "# def welcome(name):\n",
    "#     print(f\"HI {name}, welcome to stackup\")\n",
    "    \n",
    "# def welcome(name):\n",
    "#     return f\"HI {name}, welcome to stackup\"\n",
    "\n",
    "\n",
    "# import math\n",
    "# math.pow(10)\n",
    "# import wget\n",
    "# wget.download(\"ds\")\n",
    "\n",
    "\n",
    "def calc(x,y, operator=\"+\"):\n",
    "    \"\"\"\n",
    "    This is a simple calculator function\n",
    "    Inputs: x,y (numbers)\n",
    "            operator = \"+\" default, any other operator can be passed\n",
    "                        must be string\n",
    "    Returns: value of {x} {operator} {y}\n",
    "             None, if the operator is invalid\n",
    "    \"\"\"\n",
    "    if operator in [\"+\", \"-\", \"*\", \"/\"]:\n",
    "        expr = f\"{x} {operator} {y}\"\n",
    "        res  = eval(expr)\n",
    "        return res\n",
    "    else:\n",
    "        return None\n",
    "    "
   ]
  },
  {
   "cell_type": "code",
   "execution_count": null,
   "metadata": {},
   "outputs": [],
   "source": []
  },
  {
   "cell_type": "code",
   "execution_count": 42,
   "metadata": {},
   "outputs": [
    {
     "name": "stdout",
     "output_type": "stream",
     "text": [
      "2\n",
      "30\n",
      "8\n",
      "None\n"
     ]
    }
   ],
   "source": [
    "res  = calc(1,2,operator=\"*\")\n",
    "print(res)\n",
    "res2 = calc(10,20)\n",
    "print(res2)\n",
    "res3 = calc(calc(1,2) , calc(2,3))\n",
    "print(res3)\n",
    "res4 = calc(1,2,operator=\")\") #None\n",
    "print(res4)"
   ]
  },
  {
   "cell_type": "code",
   "execution_count": null,
   "metadata": {},
   "outputs": [],
   "source": [
    "# from package import calc\n",
    "calc(<shift> + <tab>)"
   ]
  },
  {
   "cell_type": "code",
   "execution_count": 50,
   "metadata": {},
   "outputs": [],
   "source": [
    "calc??"
   ]
  },
  {
   "cell_type": "code",
   "execution_count": 48,
   "metadata": {},
   "outputs": [],
   "source": [
    "import wget"
   ]
  },
  {
   "cell_type": "code",
   "execution_count": 51,
   "metadata": {},
   "outputs": [],
   "source": [
    "wget.download??"
   ]
  },
  {
   "cell_type": "code",
   "execution_count": 27,
   "metadata": {},
   "outputs": [
    {
     "data": {
      "text/plain": [
       "'HI bala, welcome to stackup'"
      ]
     },
     "execution_count": 27,
     "metadata": {},
     "output_type": "execute_result"
    }
   ],
   "source": [
    "welcome(\"bala\")"
   ]
  },
  {
   "cell_type": "code",
   "execution_count": 28,
   "metadata": {},
   "outputs": [
    {
     "name": "stdout",
     "output_type": "stream",
     "text": [
      "HI 1, welcome to stackup\n"
     ]
    }
   ],
   "source": [
    "res = welcome(1)\n",
    "print(res)"
   ]
  },
  {
   "cell_type": "markdown",
   "metadata": {},
   "source": [
    "## Simple function exercises"
   ]
  },
  {
   "cell_type": "code",
   "execution_count": 53,
   "metadata": {},
   "outputs": [],
   "source": [
    "## more info on <> function exercise.ipynb notebook\n",
    "# Filename: day2-optional-function-exercise.ipynb"
   ]
  },
  {
   "cell_type": "code",
   "execution_count": 54,
   "metadata": {},
   "outputs": [],
   "source": [
    "## Exercise in class\n",
    "# 1. write the following functions\n",
    "# - AND (takes two inputs, returns the AND gate result)\n",
    "# - OR (takes two inputs, returns the OR gate result)\n",
    "# - NOT (takes 1 input, returns the NOT gate result)\n",
    "# - XOR (takes two inputs, returns the XOR gate result) "
   ]
  },
  {
   "cell_type": "code",
   "execution_count": null,
   "metadata": {},
   "outputs": [],
   "source": [
    "## your code here..\n",
    "\n",
    "\n",
    "### Dont change this\n",
    "res1 = OR(True, NOT ( AND(True,True) ) )\n",
    "print(res1)\n",
    "res2 = XOR(True,False)\n",
    "print(res2)\n",
    "###"
   ]
  },
  {
   "cell_type": "markdown",
   "metadata": {},
   "source": [
    "## List - basics"
   ]
  },
  {
   "cell_type": "code",
   "execution_count": null,
   "metadata": {},
   "outputs": [],
   "source": []
  },
  {
   "cell_type": "code",
   "execution_count": null,
   "metadata": {},
   "outputs": [],
   "source": []
  }
 ],
 "metadata": {
  "kernelspec": {
   "display_name": "Python 3",
   "language": "python",
   "name": "python3"
  },
  "language_info": {
   "codemirror_mode": {
    "name": "ipython",
    "version": 3
   },
   "file_extension": ".py",
   "mimetype": "text/x-python",
   "name": "python",
   "nbconvert_exporter": "python",
   "pygments_lexer": "ipython3",
   "version": "3.7.3"
  }
 },
 "nbformat": 4,
 "nbformat_minor": 2
}
