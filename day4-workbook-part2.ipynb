{
 "cells": [
  {
   "cell_type": "markdown",
   "metadata": {
    "colab_type": "text",
    "id": "lNB3ZYRzLkUF"
   },
   "source": [
    "\n",
    "# Workshop 02:\n",
    "---\n",
    "##### Concepts:\n",
    "- Basic Python\n",
    "    - Loops, Dict, functions, Packages\n",
    "- Read & Write Text files\n",
    "    - Csv file, Text file\n",
    "    - Loop inside a Folder\n",
    "- explore some packages\n",
    "    "
   ]
  },
  {
   "cell_type": "markdown",
   "metadata": {},
   "source": [
    "\n",
    "### Part 1\n",
    "---    \n",
    "\n",
    "Metric collector - #cpu #memory usage percentage\n",
    "---\n",
    "\n",
    "1. Run some function Every 30 Second\n",
    "2. The function is to collect cpu, mem usage (percentage) of your machine.\n",
    "3. Save the metrics into a csv file..\n",
    "\n",
    "*Find & explore package in `pypi.org` that gives `cpu`, `memory` percentage...*\n"
   ]
  },
  {
   "cell_type": "code",
   "execution_count": 50,
   "metadata": {
    "scrolled": true
   },
   "outputs": [
    {
     "data": {
      "text/plain": [
       "'2020-02-14'"
      ]
     },
     "execution_count": 50,
     "metadata": {},
     "output_type": "execute_result"
    }
   ],
   "source": [
    "from datetime import datetime\n",
    "str(datetime.now()).split()[0]"
   ]
  },
  {
   "cell_type": "code",
   "execution_count": 51,
   "metadata": {},
   "outputs": [
    {
     "name": "stdout",
     "output_type": "stream",
     "text": [
      "Stopping the loop....\n"
     ]
    }
   ],
   "source": [
    "# code here\n",
    "\n",
    "SECONDS_TO_WAIT =10\n",
    "from time import sleep\n",
    "import psutil\n",
    "from datetime import datetime\n",
    "import csv\n",
    "\n",
    "def collect_metric():\n",
    "    \"\"\"\n",
    "    Input: N/a\n",
    "    Output: Return \n",
    "    Tuple: (cpu, mem, timestamp)\n",
    "    \"\"\"\n",
    "    \n",
    "    cpu = psutil.cpu_percent()\n",
    "    mem = psutil.virtual_memory().percent\n",
    "    timestamp = str(datetime.now())\n",
    "\n",
    "    row_tpl = (cpu, mem, timestamp)\n",
    "    return row_tpl\n",
    "\n",
    "def save_metric_to_csv(fname, row, mode=\"a\"):\n",
    "    \"\"\"\n",
    "    Input: cpu,mem,timestamp\n",
    "        fname: file_path/location to the file.. *.csv\n",
    "        row  : tuple (?, ? , ?)\n",
    "               list  [?, ? , ?]\n",
    "               Example: (10,20,'2020-02-12')\n",
    "    Output: None\n",
    "    \"\"\"\n",
    "    #newline=\"\" is to fix windows extra new lines bug when using csv module\n",
    "    with open(fname, mode=mode, newline=\"\" ) as f:\n",
    "        csv_writer = csv.writer(f)\n",
    "        csv_writer.writerow ( row )\n",
    "\n",
    "date = str(datetime.now()).split()[0]\n",
    "fname = f\"cpu_mem_{date}.csv\"\n",
    "header_row =  ('cpu','mem','timestamp')\n",
    "save_metric_to_csv(fname, header_row, mode=\"w\")\n",
    "\n",
    "try:\n",
    "    while True:\n",
    "        \n",
    "        row = collect_metric() #(10,20,\"2020-02-12 18:54:43.464747\")\n",
    "        \n",
    "        save_metric_to_csv(fname, row) #save the row to the file\n",
    "        sleep(SECONDS_TO_WAIT) #wait for 10\n",
    "        \n",
    "except KeyboardInterrupt:\n",
    "    print(\"Stopping the loop....\")"
   ]
  },
  {
   "cell_type": "code",
   "execution_count": 5,
   "metadata": {},
   "outputs": [],
   "source": [
    "row = collect_metric()\n",
    "save_metric_to_csv(\"cpu_mem.csv\", row)"
   ]
  },
  {
   "cell_type": "markdown",
   "metadata": {},
   "source": [
    "#### Test your implementation with the following code"
   ]
  },
  {
   "cell_type": "code",
   "execution_count": 52,
   "metadata": {},
   "outputs": [
    {
     "data": {
      "text/html": [
       "<div>\n",
       "<style scoped>\n",
       "    .dataframe tbody tr th:only-of-type {\n",
       "        vertical-align: middle;\n",
       "    }\n",
       "\n",
       "    .dataframe tbody tr th {\n",
       "        vertical-align: top;\n",
       "    }\n",
       "\n",
       "    .dataframe thead th {\n",
       "        text-align: right;\n",
       "    }\n",
       "</style>\n",
       "<table border=\"1\" class=\"dataframe\">\n",
       "  <thead>\n",
       "    <tr style=\"text-align: right;\">\n",
       "      <th></th>\n",
       "      <th>cpu</th>\n",
       "      <th>mem</th>\n",
       "      <th>timestamp</th>\n",
       "    </tr>\n",
       "  </thead>\n",
       "  <tbody>\n",
       "    <tr>\n",
       "      <th>0</th>\n",
       "      <td>11.4</td>\n",
       "      <td>43.3</td>\n",
       "      <td>2020-02-14 19:55:52.386561</td>\n",
       "    </tr>\n",
       "    <tr>\n",
       "      <th>1</th>\n",
       "      <td>18.5</td>\n",
       "      <td>43.6</td>\n",
       "      <td>2020-02-14 19:56:02.387650</td>\n",
       "    </tr>\n",
       "    <tr>\n",
       "      <th>2</th>\n",
       "      <td>17.3</td>\n",
       "      <td>43.5</td>\n",
       "      <td>2020-02-14 19:56:12.387789</td>\n",
       "    </tr>\n",
       "    <tr>\n",
       "      <th>3</th>\n",
       "      <td>21.7</td>\n",
       "      <td>43.7</td>\n",
       "      <td>2020-02-14 19:56:22.390487</td>\n",
       "    </tr>\n",
       "    <tr>\n",
       "      <th>4</th>\n",
       "      <td>17.5</td>\n",
       "      <td>43.5</td>\n",
       "      <td>2020-02-14 19:56:32.391569</td>\n",
       "    </tr>\n",
       "  </tbody>\n",
       "</table>\n",
       "</div>"
      ],
      "text/plain": [
       "    cpu   mem                   timestamp\n",
       "0  11.4  43.3  2020-02-14 19:55:52.386561\n",
       "1  18.5  43.6  2020-02-14 19:56:02.387650\n",
       "2  17.3  43.5  2020-02-14 19:56:12.387789\n",
       "3  21.7  43.7  2020-02-14 19:56:22.390487\n",
       "4  17.5  43.5  2020-02-14 19:56:32.391569"
      ]
     },
     "execution_count": 52,
     "metadata": {},
     "output_type": "execute_result"
    }
   ],
   "source": [
    "import pandas as pd\n",
    "import matplotlib.pyplot as plt\n",
    "df = pd.read_csv(fname)\n",
    "df.head()"
   ]
  },
  {
   "cell_type": "code",
   "execution_count": 53,
   "metadata": {},
   "outputs": [
    {
     "data": {
      "text/plain": [
       "<matplotlib.axes._subplots.AxesSubplot at 0x247dfd71978>"
      ]
     },
     "execution_count": 53,
     "metadata": {},
     "output_type": "execute_result"
    },
    {
     "data": {
      "image/png": "[encoded data removed]",
      "text/plain": [
       "<Figure size 432x288 with 1 Axes>"
      ]
     },
     "metadata": {
      "needs_background": "light"
     },
     "output_type": "display_data"
    }
   ],
   "source": [
    "df.cpu.plot()"
   ]
  },
  {
   "cell_type": "code",
   "execution_count": 54,
   "metadata": {},
   "outputs": [
    {
     "data": {
      "text/plain": [
       "<matplotlib.axes._subplots.AxesSubplot at 0x247e00a07f0>"
      ]
     },
     "execution_count": 54,
     "metadata": {},
     "output_type": "execute_result"
    },
    {
     "data": {
      "image/png": "[encoded data removed]",
      "text/plain": [
       "<Figure size 432x288 with 1 Axes>"
      ]
     },
     "metadata": {
      "needs_background": "light"
     },
     "output_type": "display_data"
    }
   ],
   "source": [
    "df.mem.plot()"
   ]
  },
  {
   "cell_type": "code",
   "execution_count": 57,
   "metadata": {},
   "outputs": [
    {
     "name": "stdout",
     "output_type": "stream",
     "text": [
      "\n",
      "Windows IP Configuration\n",
      "\n",
      "\n",
      "Ethernet adapter Ethernet 2:\n",
      "\n",
      "   Media State . . . . . . . . . . . : Media disconnected\n",
      "   Connection-specific DNS Suffix  . : \n",
      "\n",
      "Ethernet adapter Ethernet:\n",
      "\n",
      "   Media State . . . . . . . . . . . : Media disconnected\n",
      "   Connection-specific DNS Suffix  . : \n",
      "\n",
      "Wireless LAN adapter Local Area Connection* 1:\n",
      "\n",
      "   Media State . . . . . . . . . . . : Media disconnected\n",
      "   Connection-specific DNS Suffix  . : \n",
      "\n",
      "Wireless LAN adapter Wi-Fi:\n",
      "\n",
      "   Connection-specific DNS Suffix  . : mbox.com\n",
      "   Link-local IPv6 Address . . . . . : fe80::7cd1:3971:fbd4:753f%6\n",
      "   IPv4 Address. . . . . . . . . . . : 192.168.3.113\n",
      "   Subnet Mask . . . . . . . . . . . : 255.255.255.0\n",
      "   Default Gateway . . . . . . . . . : 192.168.3.1\n",
      "\n",
      "Wireless LAN adapter Local Area Connection* 10:\n",
      "\n",
      "   Connection-specific DNS Suffix  . : \n",
      "   Link-local IPv6 Address . . . . . : fe80::81d4:ce55:7aa4:6400%2\n",
      "   IPv4 Address. . . . . . . . . . . : 192.168.137.1\n",
      "   Subnet Mask . . . . . . . . . . . : 255.255.255.0\n",
      "   Default Gateway . . . . . . . . . : \n"
     ]
    }
   ],
   "source": [
    "!ipconfig"
   ]
  },
  {
   "cell_type": "code",
   "execution_count": null,
   "metadata": {},
   "outputs": [],
   "source": [
    "# ip = 192.168.1.12\n",
    "# port = 27017"
   ]
  },
  {
   "cell_type": "code",
   "execution_count": 66,
   "metadata": {},
   "outputs": [],
   "source": [
    "import psutil\n",
    "from pymongo import MongoClient\n",
    "client = MongoClient(host=\"192.168.1.12\",port=27017)"
   ]
  },
  {
   "cell_type": "code",
   "execution_count": 67,
   "metadata": {},
   "outputs": [],
   "source": [
    "collection = client.mydb.studentprofile_collection"
   ]
  },
  {
   "cell_type": "code",
   "execution_count": 68,
   "metadata": {},
   "outputs": [
    {
     "data": {
      "text/plain": [
       "<pymongo.results.InsertOneResult at 0x247e2e71888>"
      ]
     },
     "execution_count": 68,
     "metadata": {},
     "output_type": "execute_result"
    }
   ],
   "source": [
    "record = {\n",
    "    \"name\": \"bala\",\n",
    "    \"cpu\" : psutil.cpu_percent(),\n",
    "    \"mem\" : psutil.virtual_memory().percent,\n",
    "    \"timestamp\": str(datetime.now()),\n",
    "}\n",
    "\n",
    "collection.insert_one( record )"
   ]
  },
  {
   "cell_type": "code",
   "execution_count": null,
   "metadata": {},
   "outputs": [],
   "source": []
  },
  {
   "cell_type": "code",
   "execution_count": 82,
   "metadata": {},
   "outputs": [
    {
     "data": {
      "text/html": [
       "<div>\n",
       "<style scoped>\n",
       "    .dataframe tbody tr th:only-of-type {\n",
       "        vertical-align: middle;\n",
       "    }\n",
       "\n",
       "    .dataframe tbody tr th {\n",
       "        vertical-align: top;\n",
       "    }\n",
       "\n",
       "    .dataframe thead th {\n",
       "        text-align: right;\n",
       "    }\n",
       "</style>\n",
       "<table border=\"1\" class=\"dataframe\">\n",
       "  <thead>\n",
       "    <tr style=\"text-align: right;\">\n",
       "      <th></th>\n",
       "      <th>_id</th>\n",
       "      <th>cpu</th>\n",
       "      <th>mem</th>\n",
       "      <th>name</th>\n",
       "      <th>timestamp</th>\n",
       "    </tr>\n",
       "  </thead>\n",
       "  <tbody>\n",
       "    <tr>\n",
       "      <th>0</th>\n",
       "      <td>5e4691ce4cde471fab7ece36</td>\n",
       "      <td>12.4</td>\n",
       "      <td>45.6</td>\n",
       "      <td>bala</td>\n",
       "      <td>2020-02-14 20:25:50.055323</td>\n",
       "    </tr>\n",
       "    <tr>\n",
       "      <th>1</th>\n",
       "      <td>5e469325107c18615e01e47d</td>\n",
       "      <td>2.9</td>\n",
       "      <td>67.3</td>\n",
       "      <td>Wei Sheng</td>\n",
       "      <td>2020-02-14 20:31:33.554018</td>\n",
       "    </tr>\n",
       "    <tr>\n",
       "      <th>2</th>\n",
       "      <td>5e4693294cde471fab7ece38</td>\n",
       "      <td>17.7</td>\n",
       "      <td>47.2</td>\n",
       "      <td>bala</td>\n",
       "      <td>2020-02-14 20:31:37.947512</td>\n",
       "    </tr>\n",
       "    <tr>\n",
       "      <th>3</th>\n",
       "      <td>5e46932d8c410704784e9ae0</td>\n",
       "      <td>8.7</td>\n",
       "      <td>59.8</td>\n",
       "      <td>ZH</td>\n",
       "      <td>2020-02-14 20:31:41.287315</td>\n",
       "    </tr>\n",
       "    <tr>\n",
       "      <th>4</th>\n",
       "      <td>5e46936e21cb3cca07c42472</td>\n",
       "      <td>4.0</td>\n",
       "      <td>23.5</td>\n",
       "      <td>Dennis</td>\n",
       "      <td>2020-02-14 20:32:46.893918</td>\n",
       "    </tr>\n",
       "    <tr>\n",
       "      <th>5</th>\n",
       "      <td>5e4693a25e08bd9f7047f757</td>\n",
       "      <td>34.6</td>\n",
       "      <td>70.6</td>\n",
       "      <td>Eddie</td>\n",
       "      <td>2020-02-14 20:33:38.073208</td>\n",
       "    </tr>\n",
       "    <tr>\n",
       "      <th>6</th>\n",
       "      <td>5e4693cbe2b371f6ef60ac8f</td>\n",
       "      <td>13.7</td>\n",
       "      <td>36.2</td>\n",
       "      <td>XG</td>\n",
       "      <td>2020-02-14 20:34:19.000627</td>\n",
       "    </tr>\n",
       "    <tr>\n",
       "      <th>7</th>\n",
       "      <td>5e469431cd7656f0646811af</td>\n",
       "      <td>13.5</td>\n",
       "      <td>69.2</td>\n",
       "      <td>ying</td>\n",
       "      <td>2020-02-14 20:36:01.075627</td>\n",
       "    </tr>\n",
       "    <tr>\n",
       "      <th>8</th>\n",
       "      <td>5e46943f739289f886170bf4</td>\n",
       "      <td>6.1</td>\n",
       "      <td>30.3</td>\n",
       "      <td>bala</td>\n",
       "      <td>2020-02-14 20:36:15.751992</td>\n",
       "    </tr>\n",
       "    <tr>\n",
       "      <th>9</th>\n",
       "      <td>5e469469e7d82cc246f4a80b</td>\n",
       "      <td>4.0</td>\n",
       "      <td>82.6</td>\n",
       "      <td>adeline</td>\n",
       "      <td>2020-02-14 20:36:57.977384</td>\n",
       "    </tr>\n",
       "    <tr>\n",
       "      <th>10</th>\n",
       "      <td>5e469483e2b371f6ef60ac91</td>\n",
       "      <td>7.4</td>\n",
       "      <td>33.1</td>\n",
       "      <td>XG</td>\n",
       "      <td>2020-02-14 20:37:23.329077</td>\n",
       "    </tr>\n",
       "    <tr>\n",
       "      <th>11</th>\n",
       "      <td>5e4694db82e630028a46b797</td>\n",
       "      <td>12.8</td>\n",
       "      <td>39.2</td>\n",
       "      <td>bala</td>\n",
       "      <td>2020-02-14 20:38:51.601508</td>\n",
       "    </tr>\n",
       "    <tr>\n",
       "      <th>12</th>\n",
       "      <td>5e4694fe82e630028a46b798</td>\n",
       "      <td>13.0</td>\n",
       "      <td>39.5</td>\n",
       "      <td>bala123456</td>\n",
       "      <td>2020-02-14 20:39:26.486283</td>\n",
       "    </tr>\n",
       "    <tr>\n",
       "      <th>13</th>\n",
       "      <td>5e4695693a62cf192ee852ce</td>\n",
       "      <td>7.0</td>\n",
       "      <td>89.4</td>\n",
       "      <td>SeeHwee</td>\n",
       "      <td>2020-02-14 20:41:13.670831</td>\n",
       "    </tr>\n",
       "    <tr>\n",
       "      <th>14</th>\n",
       "      <td>5e46956dd65194930699695e</td>\n",
       "      <td>18.4</td>\n",
       "      <td>46.1</td>\n",
       "      <td>azhar</td>\n",
       "      <td>2020-02-14 20:41:17.308162</td>\n",
       "    </tr>\n",
       "    <tr>\n",
       "      <th>15</th>\n",
       "      <td>5e4695923a62cf192ee852cf</td>\n",
       "      <td>4.3</td>\n",
       "      <td>89.7</td>\n",
       "      <td>SeeHwee</td>\n",
       "      <td>2020-02-14 20:41:54.751203</td>\n",
       "    </tr>\n",
       "    <tr>\n",
       "      <th>16</th>\n",
       "      <td>5e469597d651949306996960</td>\n",
       "      <td>23.1</td>\n",
       "      <td>46.1</td>\n",
       "      <td>azhar</td>\n",
       "      <td>2020-02-14 20:41:59.331587</td>\n",
       "    </tr>\n",
       "    <tr>\n",
       "      <th>17</th>\n",
       "      <td>5e46965782e630028a46b799</td>\n",
       "      <td>11.1</td>\n",
       "      <td>39.7</td>\n",
       "      <td>bala123456</td>\n",
       "      <td>2020-02-14 20:45:11.568637</td>\n",
       "    </tr>\n",
       "    <tr>\n",
       "      <th>18</th>\n",
       "      <td>5e46965f82e630028a46b79a</td>\n",
       "      <td>15.3</td>\n",
       "      <td>39.8</td>\n",
       "      <td>bala123456</td>\n",
       "      <td>2020-02-14 20:45:19.106800</td>\n",
       "    </tr>\n",
       "    <tr>\n",
       "      <th>19</th>\n",
       "      <td>5e46966c82e630028a46b79b</td>\n",
       "      <td>16.2</td>\n",
       "      <td>39.9</td>\n",
       "      <td>PAMELA</td>\n",
       "      <td>2020-02-14 20:45:32.300983</td>\n",
       "    </tr>\n",
       "    <tr>\n",
       "      <th>20</th>\n",
       "      <td>5e4696b0b71cd5758a2f1436</td>\n",
       "      <td>9.7</td>\n",
       "      <td>79.5</td>\n",
       "      <td>Ram</td>\n",
       "      <td>2020-02-14 20:46:40.747515</td>\n",
       "    </tr>\n",
       "  </tbody>\n",
       "</table>\n",
       "</div>"
      ],
      "text/plain": [
       "                         _id   cpu   mem        name  \\\n",
       "0   5e4691ce4cde471fab7ece36  12.4  45.6        bala   \n",
       "1   5e469325107c18615e01e47d   2.9  67.3   Wei Sheng   \n",
       "2   5e4693294cde471fab7ece38  17.7  47.2        bala   \n",
       "3   5e46932d8c410704784e9ae0   8.7  59.8          ZH   \n",
       "4   5e46936e21cb3cca07c42472   4.0  23.5      Dennis   \n",
       "5   5e4693a25e08bd9f7047f757  34.6  70.6       Eddie   \n",
       "6   5e4693cbe2b371f6ef60ac8f  13.7  36.2          XG   \n",
       "7   5e469431cd7656f0646811af  13.5  69.2        ying   \n",
       "8   5e46943f739289f886170bf4   6.1  30.3        bala   \n",
       "9   5e469469e7d82cc246f4a80b   4.0  82.6     adeline   \n",
       "10  5e469483e2b371f6ef60ac91   7.4  33.1          XG   \n",
       "11  5e4694db82e630028a46b797  12.8  39.2        bala   \n",
       "12  5e4694fe82e630028a46b798  13.0  39.5  bala123456   \n",
       "13  5e4695693a62cf192ee852ce   7.0  89.4     SeeHwee   \n",
       "14  5e46956dd65194930699695e  18.4  46.1       azhar   \n",
       "15  5e4695923a62cf192ee852cf   4.3  89.7     SeeHwee   \n",
       "16  5e469597d651949306996960  23.1  46.1       azhar   \n",
       "17  5e46965782e630028a46b799  11.1  39.7  bala123456   \n",
       "18  5e46965f82e630028a46b79a  15.3  39.8  bala123456   \n",
       "19  5e46966c82e630028a46b79b  16.2  39.9      PAMELA   \n",
       "20  5e4696b0b71cd5758a2f1436   9.7  79.5         Ram   \n",
       "\n",
       "                     timestamp  \n",
       "0   2020-02-14 20:25:50.055323  \n",
       "1   2020-02-14 20:31:33.554018  \n",
       "2   2020-02-14 20:31:37.947512  \n",
       "3   2020-02-14 20:31:41.287315  \n",
       "4   2020-02-14 20:32:46.893918  \n",
       "5   2020-02-14 20:33:38.073208  \n",
       "6   2020-02-14 20:34:19.000627  \n",
       "7   2020-02-14 20:36:01.075627  \n",
       "8   2020-02-14 20:36:15.751992  \n",
       "9   2020-02-14 20:36:57.977384  \n",
       "10  2020-02-14 20:37:23.329077  \n",
       "11  2020-02-14 20:38:51.601508  \n",
       "12  2020-02-14 20:39:26.486283  \n",
       "13  2020-02-14 20:41:13.670831  \n",
       "14  2020-02-14 20:41:17.308162  \n",
       "15  2020-02-14 20:41:54.751203  \n",
       "16  2020-02-14 20:41:59.331587  \n",
       "17  2020-02-14 20:45:11.568637  \n",
       "18  2020-02-14 20:45:19.106800  \n",
       "19  2020-02-14 20:45:32.300983  \n",
       "20  2020-02-14 20:46:40.747515  "
      ]
     },
     "execution_count": 82,
     "metadata": {},
     "output_type": "execute_result"
    }
   ],
   "source": [
    "pd.DataFrame(collection.find())"
   ]
  },
  {
   "cell_type": "code",
   "execution_count": null,
   "metadata": {},
   "outputs": [],
   "source": []
  },
  {
   "cell_type": "code",
   "execution_count": 81,
   "metadata": {},
   "outputs": [],
   "source": [
    "import pymongo\n",
    "client ->>>>>>>>>>>>>>>>(10.20.10.40, 27017) MongoDB (Server)\n",
    "\n",
    "collection.find()\n",
    "collection.insert_one( ???)\n",
    "\n",
    "\n",
    "import requests\n",
    "\n",
    "host = 192.168.1.12 (internal ip)\n",
    "     = 10.?.?.? (internal ip)\n",
    "     = 172.?.?.? (internal ip)\n",
    "        \n",
    "     = ?.?.?.? ( $$$ PUBLIC ip)\n",
    ">>>>>>>>>>>>>>>> (host , ?) API Server (weather API)\n",
    "\n",
    ">>>>>>>>>>>>>>>> (host , ?) Server (weather API)\n",
    "host= https://data.gov.sg/group/economy\n",
    "host= https://104.26.14.175:443/group/economy\n",
    "host= http://192.168.1.12:8080/index.html\n",
    "http://www.pythontutor.com/visualize.html#mode=edit\n",
    "https://data.gov.sg/api/action/datastore_search?resource_id=f5542e9d-58d5-48dc-b8c6-4ba692318b41&limit=5\n",
    "PORT= 443\n",
    "\n",
    "\n",
    "url = \"https://data.gov.sg/group/economy\"\n",
    "\n",
    "response = chrome_browser(url)\n",
    "\n",
    "Response\n",
    "    - html, text (Web server)\n",
    "    - json (API)\n",
    "    \n"
   ]
  },
  {
   "cell_type": "code",
   "execution_count": null,
   "metadata": {},
   "outputs": [],
   "source": [
    "https://data.gov.sg/api/action/datastore_search?resource_id=f5542e9d-58d5-48dc-b8c6-4ba692318b41&limit=5\n",
    "    \n",
    "protocol: sheme?\n",
    "    https://\n",
    "        data.gov.sg - domain / ip : port\n",
    "        /api/action/datastore_search - path/route\n",
    "        ?\n",
    "        resource_id=f5542e9d-58d5-48dc-b8c6-4ba692318b41\n",
    "        &\n",
    "        limit=10\n",
    "\n",
    "    "
   ]
  },
  {
   "cell_type": "code",
   "execution_count": null,
   "metadata": {},
   "outputs": [],
   "source": [
    "u1 = https://newsapi.org/v2/everything?q=bitcoin&from=2020-01-14&sortBy=publishedAt\n",
    "bala,prasanna,ken,\n",
    "u2 = https://newsapi.org/v2/everything?q=bitcoin&from=2020-01-14&sortBy=publishedAt&apiKey=ed87a54c3fa7469fa0b8a824ee797fd1\n",
    "u2 = https://newsapi.org/v2/everything?q=bitcoin&from=2020-01-14&sortBy=publishedAt&apiKey=fde7214475a44b8298de94e00de86641\n",
    "\n",
    "1.how many query param (4 query params)\n",
    "    ?q=bitcoin\n",
    "    &\n",
    "    from=2020-01-14\n",
    "    &\n",
    "    sortBy=publishedAt\n",
    "    &\n",
    "    apiKey=ed87a54c3fa7469fa0b8a824ee797fd1\n",
    "2 what are they\n",
    "    q,\n",
    "    from\n",
    "    sortBy\n",
    "    apiKey\n",
    "3. what the route/path?\n",
    "    /v2/everything\n",
    "4. what is the domain name & port number\n",
    "    newsapi.org\n",
    "5. protocol ??\n",
    "    https\n",
    "\n"
   ]
  },
  {
   "cell_type": "markdown",
   "metadata": {},
   "source": [
    "## END"
   ]
  }
 ],
 "metadata": {
  "colab": {
   "collapsed_sections": [
    "eUCYwxGUZC5S",
    "LPClnJ_vZGiu"
   ],
   "name": "Pydot Workshops.ipynb",
   "provenance": []
  },
  "kernelspec": {
   "display_name": "Python 3",
   "language": "python",
   "name": "python3"
  },
  "language_info": {
   "codemirror_mode": {
    "name": "ipython",
    "version": 3
   },
   "file_extension": ".py",
   "mimetype": "text/x-python",
   "name": "python",
   "nbconvert_exporter": "python",
   "pygments_lexer": "ipython3",
   "version": "3.7.3"
  }
 },
 "nbformat": 4,
 "nbformat_minor": 1
}
