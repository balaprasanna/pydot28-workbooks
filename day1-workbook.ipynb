{
 "cells": [
  {
   "cell_type": "markdown",
   "metadata": {},
   "source": [
    "# Agenda \n",
    "\n",
    "- How programs are executed\n",
    "- How to write a simple python program (optional)\n",
    "- High level language properties \n",
    "    - source code -> interpreter -> output\n",
    "- Introduce python interpreter \n",
    "    - open cmd .\n",
    "\n",
    "--- Day 1\n",
    "\n",
    "- Print  \n",
    "- Comment \n",
    "- Values, Variables and Data Types\n",
    "  - type conversion \n",
    "  - snake_casing\n",
    "- Operators\n",
    "- Conditionals - Logical Expressions\n",
    "    if , if-else, if-elif-elif-else\n",
    "- Indentation\n",
    "- Iterations (loop)\n",
    "\n",
    "--- Day 2\n",
    "\n",
    "- functions\n",
    "- list,tuple,dict,set\n",
    "- classess & objects - OOP\n",
    "- packages/module\n"
   ]
  },
  {
   "cell_type": "code",
   "execution_count": 16,
   "metadata": {},
   "outputs": [],
   "source": [
    "# ![](https://www.wikihow.com/images/6/63/Find-the-Distance-Between-Two-Points-Step-6.jpg)\n",
    "\n",
    "# https://www.wikihow.com/images/6/63/Find-the-Distance-Between-Two-Points-Step-6.jpg"
   ]
  },
  {
   "cell_type": "code",
   "execution_count": 1,
   "metadata": {},
   "outputs": [],
   "source": [
    "a=10\n",
    "b=20"
   ]
  },
  {
   "cell_type": "code",
   "execution_count": 2,
   "metadata": {},
   "outputs": [
    {
     "data": {
      "text/plain": [
       "30"
      ]
     },
     "execution_count": 2,
     "metadata": {},
     "output_type": "execute_result"
    }
   ],
   "source": [
    "a+b"
   ]
  },
  {
   "cell_type": "code",
   "execution_count": 3,
   "metadata": {},
   "outputs": [
    {
     "data": {
      "text/plain": [
       "'C:\\\\Users\\\\balap\\\\Desktop\\\\teaching\\\\pydot28'"
      ]
     },
     "execution_count": 3,
     "metadata": {},
     "output_type": "execute_result"
    }
   ],
   "source": [
    "pwd"
   ]
  },
  {
   "cell_type": "code",
   "execution_count": null,
   "metadata": {},
   "outputs": [],
   "source": [
    "# function( ??? )"
   ]
  },
  {
   "cell_type": "code",
   "execution_count": 2,
   "metadata": {},
   "outputs": [
    {
     "data": {
      "text/plain": [
       "str"
      ]
     },
     "execution_count": 2,
     "metadata": {},
     "output_type": "execute_result"
    }
   ],
   "source": [
    "type(\"hello\")"
   ]
  },
  {
   "cell_type": "code",
   "execution_count": 3,
   "metadata": {},
   "outputs": [
    {
     "data": {
      "text/plain": [
       "int"
      ]
     },
     "execution_count": 3,
     "metadata": {},
     "output_type": "execute_result"
    }
   ],
   "source": [
    "type(10)"
   ]
  },
  {
   "cell_type": "code",
   "execution_count": 4,
   "metadata": {},
   "outputs": [
    {
     "data": {
      "text/plain": [
       "float"
      ]
     },
     "execution_count": 4,
     "metadata": {},
     "output_type": "execute_result"
    }
   ],
   "source": [
    "type(10.5)"
   ]
  },
  {
   "cell_type": "code",
   "execution_count": 5,
   "metadata": {},
   "outputs": [
    {
     "data": {
      "text/plain": [
       "bool"
      ]
     },
     "execution_count": 5,
     "metadata": {},
     "output_type": "execute_result"
    }
   ],
   "source": [
    "type(True)"
   ]
  },
  {
   "cell_type": "code",
   "execution_count": 6,
   "metadata": {},
   "outputs": [
    {
     "name": "stdout",
     "output_type": "stream",
     "text": [
      "10\n"
     ]
    }
   ],
   "source": [
    "print( 10  )"
   ]
  },
  {
   "cell_type": "code",
   "execution_count": 7,
   "metadata": {},
   "outputs": [
    {
     "name": "stdout",
     "output_type": "stream",
     "text": [
      "hello world\n"
     ]
    }
   ],
   "source": [
    "print(\"hello world\")"
   ]
  },
  {
   "cell_type": "code",
   "execution_count": 8,
   "metadata": {},
   "outputs": [
    {
     "name": "stdout",
     "output_type": "stream",
     "text": [
      "hello world\n"
     ]
    }
   ],
   "source": [
    "print(\"hello\", \"world\")"
   ]
  },
  {
   "cell_type": "code",
   "execution_count": 9,
   "metadata": {},
   "outputs": [
    {
     "name": "stdout",
     "output_type": "stream",
     "text": [
      "1 2 3\n"
     ]
    }
   ],
   "source": [
    "print(1,2,3)"
   ]
  },
  {
   "cell_type": "code",
   "execution_count": 13,
   "metadata": {},
   "outputs": [],
   "source": [
    "email = \"bala@nus.edu.sg\"\n",
    "age   = 28"
   ]
  },
  {
   "cell_type": "code",
   "execution_count": 14,
   "metadata": {},
   "outputs": [
    {
     "name": "stdout",
     "output_type": "stream",
     "text": [
      "Variable   Type    Data/Info\n",
      "----------------------------\n",
      "age        int     28\n",
      "email      str     bala@nus.edu.sg\n"
     ]
    }
   ],
   "source": [
    "%whos"
   ]
  },
  {
   "cell_type": "code",
   "execution_count": 15,
   "metadata": {},
   "outputs": [
    {
     "name": "stdout",
     "output_type": "stream",
     "text": [
      "Bala bala@nus.edu.sg 28\n"
     ]
    }
   ],
   "source": [
    "print(\"Bala\", email, age)"
   ]
  },
  {
   "cell_type": "markdown",
   "metadata": {},
   "source": [
    "## Ex 1"
   ]
  },
  {
   "cell_type": "code",
   "execution_count": 20,
   "metadata": {},
   "outputs": [],
   "source": [
    "# create 5 diff variable\n",
    "# store 5 diff values inside it..\n",
    "## print all those values and its types.."
   ]
  },
  {
   "cell_type": "code",
   "execution_count": null,
   "metadata": {},
   "outputs": [],
   "source": []
  },
  {
   "cell_type": "markdown",
   "metadata": {},
   "source": [
    "## String formatting "
   ]
  },
  {
   "cell_type": "code",
   "execution_count": 22,
   "metadata": {},
   "outputs": [
    {
     "name": "stdout",
     "output_type": "stream",
     "text": [
      "I had RicePlain SoupEgg with Meat SoupLime JuiceFishfor Lunch today\n"
     ]
    }
   ],
   "source": [
    "#create variables\n",
    "#create values\n",
    "print\n",
    "Item_1 = \"Rice\"\n",
    "Item_2 = \"Plain Soup\"\n",
    "Item_3 = \"Egg with Meat Soup\"\n",
    "Item_4 = \"Lime Juice\"\n",
    "Item_5 = \"Fish\"\n",
    "print (\"I had \" + Item_1 + Item_2 + Item_3 + Item_4 + Item_5 + \"for Lunch today\")"
   ]
  },
  {
   "cell_type": "code",
   "execution_count": 26,
   "metadata": {},
   "outputs": [
    {
     "name": "stdout",
     "output_type": "stream",
     "text": [
      "name: bala type:  <class 'str'>\n",
      "age: 28 type:  <class 'int'>\n"
     ]
    }
   ],
   "source": [
    "name = \"bala\"\n",
    "age  =  28\n",
    "\n",
    "print( \"name:\",  name, \"type: \", type(name)   )\n",
    "print( \"age:\",  age, \"type: \", type(age)   )"
   ]
  },
  {
   "cell_type": "code",
   "execution_count": 28,
   "metadata": {},
   "outputs": [
    {
     "data": {
      "text/plain": [
       "\"name: bala type:  <class 'str'>\""
      ]
     },
     "execution_count": 28,
     "metadata": {},
     "output_type": "execute_result"
    }
   ],
   "source": [
    "msg = \"name: {} type:  {}\".format(name, type(name))\n",
    "msg"
   ]
  },
  {
   "cell_type": "code",
   "execution_count": 29,
   "metadata": {},
   "outputs": [
    {
     "data": {
      "text/plain": [
       "\"name: bala type:  <class 'str'>\""
      ]
     },
     "execution_count": 29,
     "metadata": {},
     "output_type": "execute_result"
    }
   ],
   "source": [
    "msg = f\"name: {name} type:  {type(name)}\"\n",
    "msg"
   ]
  },
  {
   "cell_type": "code",
   "execution_count": null,
   "metadata": {},
   "outputs": [],
   "source": [
    "\"name: %s type:  %s \" % (name, type(name))"
   ]
  },
  {
   "cell_type": "markdown",
   "metadata": {},
   "source": [
    "## inputs"
   ]
  },
  {
   "cell_type": "code",
   "execution_count": 61,
   "metadata": {},
   "outputs": [
    {
     "name": "stdout",
     "output_type": "stream",
     "text": [
      "Enter age:10\n",
      "You have entered a valid age...\n"
     ]
    }
   ],
   "source": [
    "age = int(input(\"Enter age:\"))\n",
    "if age< 0:\n",
    "    print(\"-ve number for age. Please check\")\n",
    "else:\n",
    "    print(\"You have entered a valid age...\")"
   ]
  },
  {
   "cell_type": "code",
   "execution_count": null,
   "metadata": {},
   "outputs": [],
   "source": [
    "# 0.5, 0.3, 0.1\n",
    "# 0-18, 19-40, above 40\n",
    "\n",
    "age = int(input(\"Enter age:\"))\n",
    "if age>= 0 and age <= 18:\n",
    "    print(\"discount: \", 0.5)\n",
    "elif age >= 19 and age <= 40:\n",
    "    print(\"discount: \", 0.3)\n",
    "elif age > 40:\n",
    "    print(\"discount: \", 0.1)\n",
    "else:\n",
    "    print(\"Invalid age :\")"
   ]
  },
  {
   "cell_type": "code",
   "execution_count": 63,
   "metadata": {},
   "outputs": [
    {
     "name": "stdout",
     "output_type": "stream",
     "text": [
      "Enter age:-100\n",
      "invalid age..\n"
     ]
    }
   ],
   "source": [
    "age = int(input(\"Enter age:\"))\n",
    "\n",
    "if age < 0:\n",
    "    print(\"invalid age..\")\n",
    "else:\n",
    "    if age>= 0 and age <= 18:\n",
    "        print(\"discount: \", 0.5)\n",
    "    elif age >= 19 and age <= 40:\n",
    "        print(\"discount: \", 0.3)\n",
    "    elif age > 40:\n",
    "        print(\"discount: \", 0.1)\n"
   ]
  },
  {
   "cell_type": "code",
   "execution_count": null,
   "metadata": {},
   "outputs": [],
   "source": [
    "## Improve the calculator example\n",
    "## with if,elif block..."
   ]
  },
  {
   "cell_type": "code",
   "execution_count": 67,
   "metadata": {},
   "outputs": [
    {
     "name": "stdout",
     "output_type": "stream",
     "text": [
      "Enter the value for A10\n",
      "Enter the value for B20\n",
      "Enter the operator: [+,-,*,/]*\n",
      "a = 10.0, b = 20.0, a*b = 200.0\n"
     ]
    }
   ],
   "source": [
    "# There may be chance of producing ZeroDivisionError if b =0\n",
    "a = float( input(\"Enter the value for A\") )\n",
    "b = float( input(\"Enter the value for B\") )\n",
    "ops = input(\"Enter the operator: [+,-,*,/]\")\n",
    "\n",
    "if ops == \"+\":\n",
    "    print ( f\"a = {a}, b = {b}, a+b = {a + b}\" )\n",
    "elif ops == \"-\":\n",
    "    print ( f\"a = {a}, b = {b}, a-b = {a - b}\" )\n",
    "elif ops == \"*\":\n",
    "    print ( f\"a = {a}, b = {b}, a*b = {a * b}\" )\n",
    "elif ops == \"/\":\n",
    "    print ( f\"a = {a}, b = {b}, a/b = {a / b}\" )\n",
    "elif ops == \"**\":\n",
    "    print ( f\"a = {a}, b = {b}, a**b = {a ** b}\" )\n",
    "else:\n",
    "    print(\"invalid operator\")\n"
   ]
  },
  {
   "cell_type": "code",
   "execution_count": 77,
   "metadata": {},
   "outputs": [
    {
     "name": "stdout",
     "output_type": "stream",
     "text": [
      "Enter the value for A10\n",
      "Enter the value for B20\n",
      "Enter the operator: [+,-,*,/]+*\n",
      "invalid operator\n"
     ]
    }
   ],
   "source": [
    "# There may be chance of producing ZeroDivisionError if b =0\n",
    "a = float( input(\"Enter the value for A\") )\n",
    "b = float( input(\"Enter the value for B\") )\n",
    "ops = input(\"Enter the operator: [+,-,*,/]\")\n",
    "\n",
    "if ops in \"+-*/\":\n",
    "    expr = f\"{a} {ops} {b}\"\n",
    "    res  = eval(expr)\n",
    "    print ( f\"a = {a}, b = {b}, {expr} = {res}\" )\n",
    "else:\n",
    "    print(\"invalid operator\")"
   ]
  },
  {
   "cell_type": "markdown",
   "metadata": {},
   "source": [
    "## loops"
   ]
  },
  {
   "cell_type": "code",
   "execution_count": 74,
   "metadata": {},
   "outputs": [
    {
     "name": "stdout",
     "output_type": "stream",
     "text": [
      "invalid operator\n"
     ]
    }
   ],
   "source": [
    "try:\n",
    "    eval(\"10 ) 20\")\n",
    "except SyntaxError:\n",
    "    print(\"invalid operator\")"
   ]
  },
  {
   "cell_type": "markdown",
   "metadata": {},
   "source": [
    "## Operators"
   ]
  },
  {
   "cell_type": "code",
   "execution_count": 48,
   "metadata": {},
   "outputs": [],
   "source": [
    "# a = \"a\"\n",
    "# b = 3\n",
    "\n",
    "# ops = \"+,-,/,*,**,//,%\"\n",
    "# for op in ops.split(\",\"):\n",
    "#     operation = f\"{a} {op} {b}\"\n",
    "#     res = eval(operation)\n",
    "#     print(operation, res)"
   ]
  },
  {
   "cell_type": "code",
   "execution_count": null,
   "metadata": {},
   "outputs": [],
   "source": [
    "? = ?\n",
    "a = 10\n",
    "\n",
    "\n",
    "? + ?\n",
    "? - ?\n",
    "? * ?"
   ]
  },
  {
   "cell_type": "code",
   "execution_count": 31,
   "metadata": {},
   "outputs": [
    {
     "data": {
      "text/plain": [
       "False"
      ]
     },
     "execution_count": 31,
     "metadata": {},
     "output_type": "execute_result"
    }
   ],
   "source": [
    "a = \"hello\"\n",
    "b = \"HELLO\"\n",
    "\n",
    "a == b #False\n",
    "a != b #True\n",
    "a < b  #True\n",
    "a <= b #True\n",
    "a > b # False\n",
    "a >= b # False\n",
    "\n",
    "\n",
    "and or not\n",
    "\n",
    "True and True\n",
    "True and False\n",
    "\n",
    "\n",
    "a > 3 or b > 3\n",
    "True or False\n",
    "False or True\n",
    "\n",
    "False or False\n",
    "\n",
    "and\n",
    "or\n",
    "not"
   ]
  },
  {
   "cell_type": "code",
   "execution_count": 58,
   "metadata": {},
   "outputs": [],
   "source": [
    "# ord(\"A\")"
   ]
  },
  {
   "cell_type": "code",
   "execution_count": null,
   "metadata": {},
   "outputs": [],
   "source": [
    "if None:\n",
    "    ...."
   ]
  },
  {
   "cell_type": "code",
   "execution_count": 9,
   "metadata": {},
   "outputs": [
    {
     "name": "stdout",
     "output_type": "stream",
     "text": [
      "something went wrong could not convert string to float: '10b'\n"
     ]
    }
   ],
   "source": [
    "# try:\n",
    "#     float(\"10b\")\n",
    "# except ValueError as e:\n",
    "#     print(\"something went wrong\", e)"
   ]
  },
  {
   "cell_type": "code",
   "execution_count": 11,
   "metadata": {},
   "outputs": [],
   "source": [
    "# ValueError??"
   ]
  },
  {
   "cell_type": "code",
   "execution_count": 78,
   "metadata": {},
   "outputs": [],
   "source": [
    "## if: statement"
   ]
  },
  {
   "cell_type": "code",
   "execution_count": 79,
   "metadata": {},
   "outputs": [
    {
     "name": "stdout",
     "output_type": "stream",
     "text": [
      "0\n"
     ]
    }
   ],
   "source": [
    "index =  0\n",
    "if index < 10:\n",
    "    print(index)\n",
    "    index += 1"
   ]
  },
  {
   "cell_type": "code",
   "execution_count": 81,
   "metadata": {},
   "outputs": [],
   "source": [
    "# while True:\n",
    "    #do_something()\n",
    "    #wait_for_5_sec()\n",
    "#     pass"
   ]
  },
  {
   "cell_type": "code",
   "execution_count": null,
   "metadata": {},
   "outputs": [],
   "source": [
    "1,2,3...N\n",
    "range(1,N+1)\n",
    "\n",
    "N,...0\n",
    "range(N,-1,-1)\n",
    "\n",
    "0,4,8...20\n",
    "range(0,21, 4)\n",
    "\n",
    "25,20...5\n",
    "range(25,4, -5)"
   ]
  },
  {
   "cell_type": "code",
   "execution_count": 90,
   "metadata": {},
   "outputs": [
    {
     "name": "stdout",
     "output_type": "stream",
     "text": [
      "h\n",
      "e\n",
      "l\n",
      "l\n",
      "o\n",
      "w\n",
      "o\n",
      "r\n",
      "l\n",
      "d\n"
     ]
    }
   ],
   "source": [
    "# range(5)\n",
    "\n",
    "for item in \"helloworld\":\n",
    "    print(item)"
   ]
  },
  {
   "cell_type": "code",
   "execution_count": 91,
   "metadata": {},
   "outputs": [
    {
     "name": "stdout",
     "output_type": "stream",
     "text": [
      "10\n",
      "20\n",
      "30\n"
     ]
    }
   ],
   "source": [
    "for item in (10,20,30):\n",
    "    print(item)"
   ]
  },
  {
   "cell_type": "code",
   "execution_count": 92,
   "metadata": {},
   "outputs": [
    {
     "name": "stdout",
     "output_type": "stream",
     "text": [
      "11\n",
      "22\n",
      "33\n"
     ]
    }
   ],
   "source": [
    "for item in [11,22,33]:\n",
    "    print(item)"
   ]
  },
  {
   "cell_type": "code",
   "execution_count": 94,
   "metadata": {},
   "outputs": [
    {
     "data": {
      "text/plain": [
       "[0, 1, 2, 3, 4]"
      ]
     },
     "execution_count": 94,
     "metadata": {},
     "output_type": "execute_result"
    }
   ],
   "source": [
    "# range(5)\n",
    "\n",
    "# range(5,10)\n",
    "\n",
    "# range(5,10,3)\n",
    "\n",
    "# range(100,20, -10)"
   ]
  },
  {
   "cell_type": "code",
   "execution_count": 93,
   "metadata": {},
   "outputs": [
    {
     "name": "stdout",
     "output_type": "stream",
     "text": [
      "0\n",
      "1\n",
      "2\n",
      "3\n",
      "4\n",
      "5\n",
      "6\n",
      "7\n",
      "8\n",
      "9\n"
     ]
    }
   ],
   "source": [
    "for item in range(10):\n",
    "    print(item)"
   ]
  },
  {
   "cell_type": "code",
   "execution_count": 83,
   "metadata": {},
   "outputs": [
    {
     "name": "stdout",
     "output_type": "stream",
     "text": [
      "0\n",
      "1\n",
      "2\n",
      "3\n",
      "4\n",
      "5\n",
      "6\n",
      "7\n",
      "8\n",
      "9\n",
      "10\n",
      "11\n",
      "12\n",
      "13\n",
      "14\n",
      "15\n",
      "16\n",
      "17\n",
      "18\n",
      "19\n",
      "20\n"
     ]
    }
   ],
   "source": [
    "N = 20\n",
    "i = 0\n",
    "while i <= 20:\n",
    "    print(i)\n",
    "    i += 1"
   ]
  },
  {
   "cell_type": "code",
   "execution_count": 85,
   "metadata": {},
   "outputs": [
    {
     "name": "stdout",
     "output_type": "stream",
     "text": [
      "20\n",
      "19\n",
      "18\n",
      "17\n",
      "16\n",
      "15\n",
      "14\n",
      "13\n",
      "12\n",
      "11\n",
      "10\n",
      "9\n",
      "8\n",
      "7\n",
      "6\n",
      "5\n",
      "4\n",
      "3\n",
      "2\n",
      "1\n",
      "0\n"
     ]
    }
   ],
   "source": [
    "# N .... 0\n",
    "\n",
    "N = 20\n",
    "i = 20\n",
    "while i >= 0:\n",
    "    print(i)\n",
    "    i -= 1"
   ]
  },
  {
   "cell_type": "code",
   "execution_count": 87,
   "metadata": {},
   "outputs": [
    {
     "name": "stdout",
     "output_type": "stream",
     "text": [
      "0\n",
      "4\n",
      "8\n",
      "12\n",
      "16\n",
      "20\n"
     ]
    }
   ],
   "source": [
    "# 0,4,8...20\n",
    "\n",
    "N = 20\n",
    "i = 0\n",
    "while i <= N:\n",
    "    print(i)\n",
    "    i += 4"
   ]
  },
  {
   "cell_type": "code",
   "execution_count": 88,
   "metadata": {},
   "outputs": [
    {
     "name": "stdout",
     "output_type": "stream",
     "text": [
      "20\n",
      "16\n",
      "12\n",
      "8\n",
      "4\n",
      "0\n"
     ]
    }
   ],
   "source": [
    "# 0,4,8...20\n",
    "\n",
    "N = 20\n",
    "i = 20\n",
    "while i >= 0:\n",
    "    print(i)\n",
    "    i -= 4"
   ]
  },
  {
   "cell_type": "code",
   "execution_count": 95,
   "metadata": {},
   "outputs": [
    {
     "name": "stdout",
     "output_type": "stream",
     "text": [
      "welcome bala\n"
     ]
    }
   ],
   "source": [
    "\n",
    "msg = \"welcome bala\"\n",
    "print(msg)"
   ]
  },
  {
   "cell_type": "code",
   "execution_count": 96,
   "metadata": {},
   "outputs": [
    {
     "name": "stdout",
     "output_type": "stream",
     "text": [
      "welcome {}\n"
     ]
    }
   ],
   "source": [
    "name = \"bala\"\n",
    "msg = f\"welcome {name}\"\n",
    "print(msg)"
   ]
  },
  {
   "cell_type": "code",
   "execution_count": null,
   "metadata": {},
   "outputs": [],
   "source": []
  }
 ],
 "metadata": {
  "kernelspec": {
   "display_name": "Python 3",
   "language": "python",
   "name": "python3"
  },
  "language_info": {
   "codemirror_mode": {
    "name": "ipython",
    "version": 3
   },
   "file_extension": ".py",
   "mimetype": "text/x-python",
   "name": "python",
   "nbconvert_exporter": "python",
   "pygments_lexer": "ipython3",
   "version": "3.7.3"
  }
 },
 "nbformat": 4,
 "nbformat_minor": 2
}
