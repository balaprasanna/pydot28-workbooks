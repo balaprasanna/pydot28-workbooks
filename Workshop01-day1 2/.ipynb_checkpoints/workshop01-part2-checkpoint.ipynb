{
 "cells": [
  {
   "cell_type": "markdown",
   "metadata": {
    "colab_type": "text",
    "id": "CCtJz8xPKuc6"
   },
   "source": [
    "# Module 1 - Part 2\n",
    "- Foundational Python refresher..."
   ]
  },
  {
   "cell_type": "markdown",
   "metadata": {
    "colab_type": "text",
    "id": "hnAjXbsmNoQR"
   },
   "source": [
    "#### Advanced String manipulations Revisited"
   ]
  },
  {
   "cell_type": "markdown",
   "metadata": {
    "colab_type": "text",
    "id": "M7aVETqlOLay"
   },
   "source": [
    "```\n",
    "- \"a\" + \"bc\"\n",
    "\n",
    "- 3 * \"bc\"\n",
    "\n",
    "- \"3\" * \"bc\"\n",
    "\n",
    "- \"Abcd\"[2]\n",
    "\n",
    "- \"Abcd\"[0:2]\n",
    "\n",
    "- \"Abcd\"[ :2 ]\n",
    "\n",
    "- \"Abcd\"[2:]\n",
    "```"
   ]
  },
  {
   "cell_type": "code",
   "execution_count": 1,
   "metadata": {},
   "outputs": [
    {
     "data": {
      "text/plain": [
       "'abc'"
      ]
     },
     "execution_count": 1,
     "metadata": {},
     "output_type": "execute_result"
    }
   ],
   "source": [
    "\"a\" + \"bc\""
   ]
  },
  {
   "cell_type": "code",
   "execution_count": 2,
   "metadata": {},
   "outputs": [
    {
     "data": {
      "text/plain": [
       "'bcbcbc'"
      ]
     },
     "execution_count": 2,
     "metadata": {},
     "output_type": "execute_result"
    }
   ],
   "source": [
    "3 * \"bc\""
   ]
  },
  {
   "cell_type": "code",
   "execution_count": 4,
   "metadata": {},
   "outputs": [
    {
     "data": {
      "text/plain": [
       "'bcbcbc'"
      ]
     },
     "execution_count": 4,
     "metadata": {},
     "output_type": "execute_result"
    }
   ],
   "source": [
    "\"3\" * \"bc\""
   ]
  },
  {
   "cell_type": "code",
   "execution_count": 5,
   "metadata": {},
   "outputs": [
    {
     "data": {
      "text/plain": [
       "'c'"
      ]
     },
     "execution_count": 5,
     "metadata": {},
     "output_type": "execute_result"
    }
   ],
   "source": [
    "\"Abcd\"[2]"
   ]
  },
  {
   "cell_type": "code",
   "execution_count": 6,
   "metadata": {},
   "outputs": [
    {
     "data": {
      "text/plain": [
       "'Ab'"
      ]
     },
     "execution_count": 6,
     "metadata": {},
     "output_type": "execute_result"
    }
   ],
   "source": [
    "\"Abcd\"[0:2]"
   ]
  },
  {
   "cell_type": "code",
   "execution_count": 7,
   "metadata": {},
   "outputs": [
    {
     "data": {
      "text/plain": [
       "'Ab'"
      ]
     },
     "execution_count": 7,
     "metadata": {},
     "output_type": "execute_result"
    }
   ],
   "source": [
    "\"Abcd\"[:2]"
   ]
  },
  {
   "cell_type": "code",
   "execution_count": 8,
   "metadata": {},
   "outputs": [
    {
     "data": {
      "text/plain": [
       "'cd'"
      ]
     },
     "execution_count": 8,
     "metadata": {},
     "output_type": "execute_result"
    }
   ],
   "source": [
    "\"Abcd\"[2:]"
   ]
  },
  {
   "cell_type": "code",
   "execution_count": 9,
   "metadata": {},
   "outputs": [],
   "source": [
    "str1 = 'hello'\n",
    "str2 = ','\n",
    "str3 = 'world'"
   ]
  },
  {
   "cell_type": "code",
   "execution_count": 10,
   "metadata": {},
   "outputs": [
    {
     "data": {
      "text/plain": [
       "'h'"
      ]
     },
     "execution_count": 10,
     "metadata": {},
     "output_type": "execute_result"
    }
   ],
   "source": [
    "str1[0]"
   ]
  },
  {
   "cell_type": "code",
   "execution_count": 11,
   "metadata": {},
   "outputs": [
    {
     "ename": "NameError",
     "evalue": "name 'Str1' is not defined",
     "output_type": "error",
     "traceback": [
      "\u001b[1;31m---------------------------------------------------------------------------\u001b[0m",
      "\u001b[1;31mNameError\u001b[0m                                 Traceback (most recent call last)",
      "\u001b[1;32m<ipython-input-11-5ce9f898401b>\u001b[0m in \u001b[0;36m<module>\u001b[1;34m\u001b[0m\n\u001b[1;32m----> 1\u001b[1;33m \u001b[0mStr1\u001b[0m\u001b[1;33m[\u001b[0m\u001b[1;36m1\u001b[0m\u001b[1;33m]\u001b[0m\u001b[1;33m\u001b[0m\u001b[1;33m\u001b[0m\u001b[0m\n\u001b[0m",
      "\u001b[1;31mNameError\u001b[0m: name 'Str1' is not defined"
     ]
    }
   ],
   "source": [
    "Str1[1]"
   ]
  },
  {
   "cell_type": "code",
   "execution_count": 12,
   "metadata": {},
   "outputs": [
    {
     "data": {
      "text/plain": [
       "'o'"
      ]
     },
     "execution_count": 12,
     "metadata": {},
     "output_type": "execute_result"
    }
   ],
   "source": [
    "str1[-1]"
   ]
  },
  {
   "cell_type": "code",
   "execution_count": 13,
   "metadata": {},
   "outputs": [
    {
     "data": {
      "text/plain": [
       "5"
      ]
     },
     "execution_count": 13,
     "metadata": {},
     "output_type": "execute_result"
    }
   ],
   "source": [
    "len(str1)"
   ]
  },
  {
   "cell_type": "code",
   "execution_count": 14,
   "metadata": {
    "scrolled": true
   },
   "outputs": [
    {
     "data": {
      "text/plain": [
       "'o'"
      ]
     },
     "execution_count": 14,
     "metadata": {},
     "output_type": "execute_result"
    }
   ],
   "source": [
    "str1[ len(str1)-1 ]"
   ]
  },
  {
   "cell_type": "code",
   "execution_count": 15,
   "metadata": {},
   "outputs": [
    {
     "data": {
      "text/plain": [
       "''"
      ]
     },
     "execution_count": 15,
     "metadata": {},
     "output_type": "execute_result"
    }
   ],
   "source": [
    "str1[-1 : 4 ]"
   ]
  },
  {
   "cell_type": "code",
   "execution_count": 17,
   "metadata": {},
   "outputs": [
    {
     "data": {
      "text/plain": [
       "'hello,world'"
      ]
     },
     "execution_count": 17,
     "metadata": {},
     "output_type": "execute_result"
    }
   ],
   "source": [
    "str1 + str2 + str3"
   ]
  },
  {
   "cell_type": "code",
   "execution_count": 16,
   "metadata": {},
   "outputs": [
    {
     "data": {
      "text/plain": [
       "'worldworldworld'"
      ]
     },
     "execution_count": 16,
     "metadata": {},
     "output_type": "execute_result"
    }
   ],
   "source": [
    "str3 * 3"
   ]
  },
  {
   "cell_type": "markdown",
   "metadata": {
    "colab_type": "text",
    "id": "zIl9C0jbOL1l"
   },
   "source": [
    "#### More on strings & slicing..\n",
    "\n",
    "```\n",
    "str1 = 'hello'\n",
    "str2 = ','\n",
    "str3 = 'world'\n",
    "```"
   ]
  },
  {
   "cell_type": "markdown",
   "metadata": {
    "colab_type": "text",
    "id": "S1yJvqWMPGEQ"
   },
   "source": [
    "Part 1 - Answer the following\n",
    "\n",
    "```\n",
    "- str1[0]\n",
    "\n",
    "- Str1[1]\n",
    "\n",
    "- str1[-1]\n",
    "\n",
    "- len(str1)\n",
    "\n",
    "- str1[ len(str1)-1 ]\n",
    "\n",
    "- str1[-1 : len(str1)-1 ]\n",
    "\n",
    "- str1 + str2 + str3\n",
    "\n",
    "- str1 + str2 + ' ' + str3\n",
    "\n",
    "- str3 * 3\n",
    "\n",
    "- 'hello' == str1\n",
    "\n",
    "- 'HELLO' == str1\n",
    "\n",
    "- 'a' in str3\n",
    "```"
   ]
  },
  {
   "cell_type": "code",
   "execution_count": 19,
   "metadata": {
    "colab": {},
    "colab_type": "code",
    "id": "wfRykJN7Qook"
   },
   "outputs": [
    {
     "data": {
      "text/plain": [
       "(True, False)"
      ]
     },
     "execution_count": 19,
     "metadata": {},
     "output_type": "execute_result"
    }
   ],
   "source": [
    "True, 'HELLO' == str1"
   ]
  },
  {
   "cell_type": "code",
   "execution_count": 21,
   "metadata": {},
   "outputs": [
    {
     "data": {
      "text/plain": [
       "True"
      ]
     },
     "execution_count": 21,
     "metadata": {},
     "output_type": "execute_result"
    }
   ],
   "source": [
    "'a' not in str3"
   ]
  },
  {
   "cell_type": "code",
   "execution_count": 22,
   "metadata": {},
   "outputs": [
    {
     "data": {
      "text/plain": [
       "'world'"
      ]
     },
     "execution_count": 22,
     "metadata": {},
     "output_type": "execute_result"
    }
   ],
   "source": [
    "str3"
   ]
  },
  {
   "cell_type": "code",
   "execution_count": 25,
   "metadata": {},
   "outputs": [],
   "source": [
    "str4 = 'helloworld'\n"
   ]
  },
  {
   "cell_type": "code",
   "execution_count": null,
   "metadata": {},
   "outputs": [],
   "source": [
    "str4 = 'helloworld'\n",
    "\n",
    "True, 'or', wor\n",
    "\n",
    "[str1, str2]\n",
    "\n",
    "some[10]\n",
    "some[:10]\n",
    "some[1:10]\n",
    "some[1:10:2]"
   ]
  },
  {
   "cell_type": "markdown",
   "metadata": {
    "colab_type": "text",
    "id": "etoxGBJFPODB"
   },
   "source": [
    "Part 2 - Answer the following\n",
    "\n",
    "```\n",
    "- str4 = 'helloworld'\n",
    "\n",
    "- 'low' in str4\n",
    "\n",
    "- str3[1:3]\n",
    "\n",
    "- str3[:3]\n",
    "\n",
    "- [str3:-1]\n",
    "\n",
    "- str1[1:]\n",
    "\n",
    "- str4[1:9]\n",
    "\n",
    "- str4[9:1:2] \n",
    "\n",
    "- Str4[::-1]\n",
    "```"
   ]
  },
  {
   "cell_type": "code",
   "execution_count": 30,
   "metadata": {},
   "outputs": [
    {
     "data": {
      "text/plain": [
       "'dlrowolleh'"
      ]
     },
     "execution_count": 30,
     "metadata": {},
     "output_type": "execute_result"
    }
   ],
   "source": [
    "str4[::-1]"
   ]
  },
  {
   "cell_type": "code",
   "execution_count": 28,
   "metadata": {},
   "outputs": [
    {
     "data": {
      "text/plain": [
       "'drwl'"
      ]
     },
     "execution_count": 28,
     "metadata": {},
     "output_type": "execute_result"
    }
   ],
   "source": [
    "str4[9:1:-2]"
   ]
  },
  {
   "cell_type": "code",
   "execution_count": 23,
   "metadata": {
    "colab": {},
    "colab_type": "code",
    "id": "fpyJaBNHQoHL"
   },
   "outputs": [
    {
     "data": {
      "text/plain": [
       "'ello'"
      ]
     },
     "execution_count": 23,
     "metadata": {},
     "output_type": "execute_result"
    }
   ],
   "source": [
    "str1[1:]"
   ]
  },
  {
   "cell_type": "code",
   "execution_count": 31,
   "metadata": {},
   "outputs": [],
   "source": [
    "animals = {\n",
    "            'a': 'aardvark',\n",
    "            'b': 'baboon',\n",
    "            'c': 'coati'\n",
    "          }\n",
    "\n",
    "animals['d'] = 'donkey'\n",
    "animals['b'] = 'donkey'"
   ]
  },
  {
   "cell_type": "code",
   "execution_count": 32,
   "metadata": {},
   "outputs": [
    {
     "data": {
      "text/plain": [
       "{'a': 'aardvark', 'b': 'donkey', 'c': 'coati', 'd': 'donkey'}"
      ]
     },
     "execution_count": 32,
     "metadata": {},
     "output_type": "execute_result"
    }
   ],
   "source": [
    "animals"
   ]
  },
  {
   "cell_type": "code",
   "execution_count": 35,
   "metadata": {},
   "outputs": [
    {
     "data": {
      "text/plain": [
       "4"
      ]
     },
     "execution_count": 35,
     "metadata": {},
     "output_type": "execute_result"
    }
   ],
   "source": [
    "len(animals)"
   ]
  },
  {
   "cell_type": "code",
   "execution_count": 34,
   "metadata": {},
   "outputs": [],
   "source": [
    "# animals[\"donkey\"]\n",
    "animals.get(\"donkey\")"
   ]
  },
  {
   "cell_type": "code",
   "execution_count": 36,
   "metadata": {},
   "outputs": [],
   "source": [
    "animals['a'] = 'anteater'"
   ]
  },
  {
   "cell_type": "code",
   "execution_count": 37,
   "metadata": {},
   "outputs": [
    {
     "data": {
      "text/plain": [
       "8"
      ]
     },
     "execution_count": 37,
     "metadata": {},
     "output_type": "execute_result"
    }
   ],
   "source": [
    "len(animals['a'])"
   ]
  },
  {
   "cell_type": "code",
   "execution_count": 39,
   "metadata": {},
   "outputs": [
    {
     "data": {
      "text/plain": [
       "False"
      ]
     },
     "execution_count": 39,
     "metadata": {},
     "output_type": "execute_result"
    }
   ],
   "source": [
    "# animals\n",
    "'baboon' in animals "
   ]
  },
  {
   "cell_type": "code",
   "execution_count": 40,
   "metadata": {},
   "outputs": [
    {
     "data": {
      "text/plain": [
       "True"
      ]
     },
     "execution_count": 40,
     "metadata": {},
     "output_type": "execute_result"
    }
   ],
   "source": [
    "'donkey' in animals.values()"
   ]
  },
  {
   "cell_type": "code",
   "execution_count": 42,
   "metadata": {},
   "outputs": [
    {
     "data": {
      "text/plain": [
       "True"
      ]
     },
     "execution_count": 42,
     "metadata": {},
     "output_type": "execute_result"
    }
   ],
   "source": [
    "# animals\n",
    "'b' in animals "
   ]
  },
  {
   "cell_type": "code",
   "execution_count": 43,
   "metadata": {},
   "outputs": [
    {
     "data": {
      "text/plain": [
       "dict_keys(['a', 'b', 'c', 'd'])"
      ]
     },
     "execution_count": 43,
     "metadata": {},
     "output_type": "execute_result"
    }
   ],
   "source": [
    "animals.keys()"
   ]
  },
  {
   "cell_type": "markdown",
   "metadata": {
    "colab_type": "text",
    "id": "PFmh-LB1S0Kg"
   },
   "source": [
    "#### Python dict\n",
    "\n",
    "\n",
    "Given the following code...\n",
    "\n",
    "```python\n",
    "animals = {\n",
    "            'a': 'aardvark',\n",
    "            'b': 'baboon',\n",
    "            'c': 'coati'\n",
    "          }\n",
    "\n",
    "animals['d'] = 'donkey'\n",
    "animals['b'] = 'donkey'\n",
    "\n",
    "```"
   ]
  },
  {
   "cell_type": "markdown",
   "metadata": {
    "colab_type": "text",
    "id": "LtGZCyt_TLcD"
   },
   "source": [
    "#### Guess the output with respect to the given dict..\n",
    "\n",
    "1. \n",
    "```\n",
    "animals\n",
    "```\n",
    "--- \n",
    "\n",
    "2. \n",
    "```\n",
    "animals[\"donkey\"]\n",
    "```\n",
    "---\n",
    "\n",
    "3. \n",
    "```\n",
    "animals.get('donkey')\n",
    "```\n",
    "---\n",
    "\n",
    "4. \n",
    "```\n",
    "len(animals)\n",
    "```\n",
    "---\n",
    "\n",
    "5. \n",
    "```\n",
    "animals['a'] = 'anteater'\n",
    "```\n",
    "---\n",
    "\n",
    "6. \n",
    "```\n",
    "len(animals['a'])\n",
    "```\n",
    "---\n",
    "\n",
    "7. \n",
    "```\n",
    "'baboon' in animals \n",
    "```\n",
    "---\n",
    "\n",
    "8. \n",
    "```\n",
    " 'donkey' in animals.values()\n",
    "```\n",
    "---\n",
    "\n",
    "9. \n",
    "```\n",
    "'b' in animals \n",
    "```\n",
    "---\n",
    "10. \n",
    "```\n",
    "animals.keys()\n",
    "```\n",
    "---\n",
    "11. \n",
    "```\n",
    "del animals['b']\n",
    "len(animals)\n",
    "animals\n",
    "```\n",
    "---\n",
    "12. \n",
    "```\n",
    "animals.values()\n",
    "```\n",
    "---\n",
    "13. \n",
    "```\n",
    "animals.get(\"d\",'donkey')\n",
    "```"
   ]
  },
  {
   "cell_type": "code",
   "execution_count": 45,
   "metadata": {
    "colab": {},
    "colab_type": "code",
    "id": "cjA1eUI1TO5s"
   },
   "outputs": [],
   "source": [
    "## Outputs...\n",
    "x = (1, 2, (3, 'John', 4), 'Hi')"
   ]
  },
  {
   "cell_type": "markdown",
   "metadata": {
    "colab_type": "text",
    "id": "Hup1luuoTLe5"
   },
   "source": [
    "#### Tuples\n",
    "\n",
    "Assume we've made the following assignment:\n",
    "\n",
    "```python\n",
    "x = (1, 2, (3, 'John', 4), 'Hi')\n",
    "```\n"
   ]
  },
  {
   "cell_type": "code",
   "execution_count": 49,
   "metadata": {},
   "outputs": [
    {
     "data": {
      "text/plain": [
       "True"
      ]
     },
     "execution_count": 49,
     "metadata": {},
     "output_type": "execute_result"
    }
   ],
   "source": [
    "x[0:1] == (1,)"
   ]
  },
  {
   "cell_type": "code",
   "execution_count": null,
   "metadata": {},
   "outputs": [],
   "source": []
  },
  {
   "cell_type": "markdown",
   "metadata": {
    "colab_type": "text",
    "id": "VFmjuei-TLlJ"
   },
   "source": [
    "\n",
    "Ouput ???\n",
    "\n",
    "- x[0]\n",
    "---\n",
    "- x[2]\n",
    "---\n",
    "- x[-1]\n",
    "---\n",
    "- x[2][2]\n",
    "---\n",
    "- x[2][-1]\n",
    "---\n",
    "- x[-1][-1]\n",
    "---\n",
    "- x[-1][2]\n",
    "---\n",
    "- x[0:1]\n",
    "---\n",
    "- x[0:-1]\n",
    "---\n",
    "- len(x)\n",
    "---\n",
    "- 2 in x\n",
    "---\n",
    "- 3 in x\n",
    "---\n",
    "- x[0] = 8\n",
    "---"
   ]
  },
  {
   "cell_type": "code",
   "execution_count": 51,
   "metadata": {},
   "outputs": [
    {
     "ename": "TypeError",
     "evalue": "'tuple' object does not support item assignment",
     "output_type": "error",
     "traceback": [
      "\u001b[1;31m---------------------------------------------------------------------------\u001b[0m",
      "\u001b[1;31mTypeError\u001b[0m                                 Traceback (most recent call last)",
      "\u001b[1;32m<ipython-input-51-5d4b64d9fa2d>\u001b[0m in \u001b[0;36m<module>\u001b[1;34m\u001b[0m\n\u001b[1;32m----> 1\u001b[1;33m \u001b[0mx\u001b[0m\u001b[1;33m[\u001b[0m\u001b[1;36m0\u001b[0m\u001b[1;33m]\u001b[0m \u001b[1;33m=\u001b[0m \u001b[1;36m9\u001b[0m\u001b[1;33m\u001b[0m\u001b[1;33m\u001b[0m\u001b[0m\n\u001b[0m",
      "\u001b[1;31mTypeError\u001b[0m: 'tuple' object does not support item assignment"
     ]
    }
   ],
   "source": [
    "x[0] = 9"
   ]
  },
  {
   "cell_type": "markdown",
   "metadata": {
    "colab_type": "text",
    "id": "Y7t_dKKKRD9T"
   },
   "source": [
    "## Code Snip"
   ]
  },
  {
   "cell_type": "code",
   "execution_count": 54,
   "metadata": {},
   "outputs": [
    {
     "name": "stdout",
     "output_type": "stream",
     "text": [
      "(1,)\n",
      "1\n"
     ]
    }
   ],
   "source": [
    "print((1,))\n",
    "print((1))"
   ]
  },
  {
   "cell_type": "markdown",
   "metadata": {
    "colab_type": "text",
    "id": "006CV236LS7e"
   },
   "source": [
    "###  Code Snippets 03\n",
    "- visit : http://www.99-bottles-of-beer.net/lyrics.html\n",
    "- Write a program to re-generate lyrics for `99 bottles` song \n"
   ]
  },
  {
   "cell_type": "markdown",
   "metadata": {},
   "source": [
    "- HINT : \n",
    "    - step 1 -Identity the repeated pattern\n",
    "    - step 2 -Find the static and dynamic portions of the string\n",
    "    - step 3 -use loop and string formatting to generate the SONG."
   ]
  },
  {
   "cell_type": "code",
   "execution_count": 55,
   "metadata": {
    "scrolled": true
   },
   "outputs": [
    {
     "data": {
      "text/html": [
       "\n",
       "        <iframe\n",
       "            width=\"800\"\n",
       "            height=\"400\"\n",
       "            src=\"http://www.99-bottles-of-beer.net/lyrics.html\"\n",
       "            frameborder=\"0\"\n",
       "            allowfullscreen\n",
       "        ></iframe>\n",
       "        "
      ],
      "text/plain": [
       "<IPython.lib.display.IFrame at 0x22ead288dd8>"
      ]
     },
     "execution_count": 55,
     "metadata": {},
     "output_type": "execute_result"
    }
   ],
   "source": [
    "from IPython.display import IFrame\n",
    "IFrame(src='http://www.99-bottles-of-beer.net/lyrics.html', width=800, height=400)"
   ]
  },
  {
   "cell_type": "code",
   "execution_count": 56,
   "metadata": {
    "colab": {},
    "colab_type": "code",
    "id": "A1f0nR4AQ_0D"
   },
   "outputs": [
    {
     "name": "stdout",
     "output_type": "stream",
     "text": [
      "99 bottles of beer on the wall, 99 bottles of beer.\n",
      "Take one down and pass it around, 98 bottles of beer on the wall.\n",
      "98 bottles of beer on the wall, 98 bottles of beer.\n",
      "Take one down and pass it around, 97 bottles of beer on the wall.\n",
      "97 bottles of beer on the wall, 97 bottles of beer.\n",
      "Take one down and pass it around, 96 bottles of beer on the wall.\n",
      "96 bottles of beer on the wall, 96 bottles of beer.\n",
      "Take one down and pass it around, 95 bottles of beer on the wall.\n",
      "95 bottles of beer on the wall, 95 bottles of beer.\n",
      "Take one down and pass it around, 94 bottles of beer on the wall.\n",
      "94 bottles of beer on the wall, 94 bottles of beer.\n",
      "Take one down and pass it around, 93 bottles of beer on the wall.\n",
      "93 bottles of beer on the wall, 93 bottles of beer.\n",
      "Take one down and pass it around, 92 bottles of beer on the wall.\n",
      "92 bottles of beer on the wall, 92 bottles of beer.\n",
      "Take one down and pass it around, 91 bottles of beer on the wall.\n",
      "91 bottles of beer on the wall, 91 bottles of beer.\n",
      "Take one down and pass it around, 90 bottles of beer on the wall.\n",
      "90 bottles of beer on the wall, 90 bottles of beer.\n",
      "Take one down and pass it around, 89 bottles of beer on the wall.\n",
      "89 bottles of beer on the wall, 89 bottles of beer.\n",
      "Take one down and pass it around, 88 bottles of beer on the wall.\n",
      "88 bottles of beer on the wall, 88 bottles of beer.\n",
      "Take one down and pass it around, 87 bottles of beer on the wall.\n",
      "87 bottles of beer on the wall, 87 bottles of beer.\n",
      "Take one down and pass it around, 86 bottles of beer on the wall.\n",
      "86 bottles of beer on the wall, 86 bottles of beer.\n",
      "Take one down and pass it around, 85 bottles of beer on the wall.\n",
      "85 bottles of beer on the wall, 85 bottles of beer.\n",
      "Take one down and pass it around, 84 bottles of beer on the wall.\n",
      "84 bottles of beer on the wall, 84 bottles of beer.\n",
      "Take one down and pass it around, 83 bottles of beer on the wall.\n",
      "83 bottles of beer on the wall, 83 bottles of beer.\n",
      "Take one down and pass it around, 82 bottles of beer on the wall.\n",
      "82 bottles of beer on the wall, 82 bottles of beer.\n",
      "Take one down and pass it around, 81 bottles of beer on the wall.\n",
      "81 bottles of beer on the wall, 81 bottles of beer.\n",
      "Take one down and pass it around, 80 bottles of beer on the wall.\n",
      "80 bottles of beer on the wall, 80 bottles of beer.\n",
      "Take one down and pass it around, 79 bottles of beer on the wall.\n",
      "79 bottles of beer on the wall, 79 bottles of beer.\n",
      "Take one down and pass it around, 78 bottles of beer on the wall.\n",
      "78 bottles of beer on the wall, 78 bottles of beer.\n",
      "Take one down and pass it around, 77 bottles of beer on the wall.\n",
      "77 bottles of beer on the wall, 77 bottles of beer.\n",
      "Take one down and pass it around, 76 bottles of beer on the wall.\n",
      "76 bottles of beer on the wall, 76 bottles of beer.\n",
      "Take one down and pass it around, 75 bottles of beer on the wall.\n",
      "75 bottles of beer on the wall, 75 bottles of beer.\n",
      "Take one down and pass it around, 74 bottles of beer on the wall.\n",
      "74 bottles of beer on the wall, 74 bottles of beer.\n",
      "Take one down and pass it around, 73 bottles of beer on the wall.\n",
      "73 bottles of beer on the wall, 73 bottles of beer.\n",
      "Take one down and pass it around, 72 bottles of beer on the wall.\n",
      "72 bottles of beer on the wall, 72 bottles of beer.\n",
      "Take one down and pass it around, 71 bottles of beer on the wall.\n",
      "71 bottles of beer on the wall, 71 bottles of beer.\n",
      "Take one down and pass it around, 70 bottles of beer on the wall.\n",
      "70 bottles of beer on the wall, 70 bottles of beer.\n",
      "Take one down and pass it around, 69 bottles of beer on the wall.\n",
      "69 bottles of beer on the wall, 69 bottles of beer.\n",
      "Take one down and pass it around, 68 bottles of beer on the wall.\n",
      "68 bottles of beer on the wall, 68 bottles of beer.\n",
      "Take one down and pass it around, 67 bottles of beer on the wall.\n",
      "67 bottles of beer on the wall, 67 bottles of beer.\n",
      "Take one down and pass it around, 66 bottles of beer on the wall.\n",
      "66 bottles of beer on the wall, 66 bottles of beer.\n",
      "Take one down and pass it around, 65 bottles of beer on the wall.\n",
      "65 bottles of beer on the wall, 65 bottles of beer.\n",
      "Take one down and pass it around, 64 bottles of beer on the wall.\n",
      "64 bottles of beer on the wall, 64 bottles of beer.\n",
      "Take one down and pass it around, 63 bottles of beer on the wall.\n",
      "63 bottles of beer on the wall, 63 bottles of beer.\n",
      "Take one down and pass it around, 62 bottles of beer on the wall.\n",
      "62 bottles of beer on the wall, 62 bottles of beer.\n",
      "Take one down and pass it around, 61 bottles of beer on the wall.\n",
      "61 bottles of beer on the wall, 61 bottles of beer.\n",
      "Take one down and pass it around, 60 bottles of beer on the wall.\n",
      "60 bottles of beer on the wall, 60 bottles of beer.\n",
      "Take one down and pass it around, 59 bottles of beer on the wall.\n",
      "59 bottles of beer on the wall, 59 bottles of beer.\n",
      "Take one down and pass it around, 58 bottles of beer on the wall.\n",
      "58 bottles of beer on the wall, 58 bottles of beer.\n",
      "Take one down and pass it around, 57 bottles of beer on the wall.\n",
      "57 bottles of beer on the wall, 57 bottles of beer.\n",
      "Take one down and pass it around, 56 bottles of beer on the wall.\n",
      "56 bottles of beer on the wall, 56 bottles of beer.\n",
      "Take one down and pass it around, 55 bottles of beer on the wall.\n",
      "55 bottles of beer on the wall, 55 bottles of beer.\n",
      "Take one down and pass it around, 54 bottles of beer on the wall.\n",
      "54 bottles of beer on the wall, 54 bottles of beer.\n",
      "Take one down and pass it around, 53 bottles of beer on the wall.\n",
      "53 bottles of beer on the wall, 53 bottles of beer.\n",
      "Take one down and pass it around, 52 bottles of beer on the wall.\n",
      "52 bottles of beer on the wall, 52 bottles of beer.\n",
      "Take one down and pass it around, 51 bottles of beer on the wall.\n",
      "51 bottles of beer on the wall, 51 bottles of beer.\n",
      "Take one down and pass it around, 50 bottles of beer on the wall.\n",
      "50 bottles of beer on the wall, 50 bottles of beer.\n",
      "Take one down and pass it around, 49 bottles of beer on the wall.\n",
      "49 bottles of beer on the wall, 49 bottles of beer.\n",
      "Take one down and pass it around, 48 bottles of beer on the wall.\n",
      "48 bottles of beer on the wall, 48 bottles of beer.\n",
      "Take one down and pass it around, 47 bottles of beer on the wall.\n",
      "47 bottles of beer on the wall, 47 bottles of beer.\n",
      "Take one down and pass it around, 46 bottles of beer on the wall.\n",
      "46 bottles of beer on the wall, 46 bottles of beer.\n",
      "Take one down and pass it around, 45 bottles of beer on the wall.\n",
      "45 bottles of beer on the wall, 45 bottles of beer.\n",
      "Take one down and pass it around, 44 bottles of beer on the wall.\n",
      "44 bottles of beer on the wall, 44 bottles of beer.\n",
      "Take one down and pass it around, 43 bottles of beer on the wall.\n",
      "43 bottles of beer on the wall, 43 bottles of beer.\n",
      "Take one down and pass it around, 42 bottles of beer on the wall.\n",
      "42 bottles of beer on the wall, 42 bottles of beer.\n",
      "Take one down and pass it around, 41 bottles of beer on the wall.\n",
      "41 bottles of beer on the wall, 41 bottles of beer.\n",
      "Take one down and pass it around, 40 bottles of beer on the wall.\n",
      "40 bottles of beer on the wall, 40 bottles of beer.\n",
      "Take one down and pass it around, 39 bottles of beer on the wall.\n",
      "39 bottles of beer on the wall, 39 bottles of beer.\n",
      "Take one down and pass it around, 38 bottles of beer on the wall.\n",
      "38 bottles of beer on the wall, 38 bottles of beer.\n",
      "Take one down and pass it around, 37 bottles of beer on the wall.\n",
      "37 bottles of beer on the wall, 37 bottles of beer.\n",
      "Take one down and pass it around, 36 bottles of beer on the wall.\n",
      "36 bottles of beer on the wall, 36 bottles of beer.\n",
      "Take one down and pass it around, 35 bottles of beer on the wall.\n",
      "35 bottles of beer on the wall, 35 bottles of beer.\n",
      "Take one down and pass it around, 34 bottles of beer on the wall.\n",
      "34 bottles of beer on the wall, 34 bottles of beer.\n",
      "Take one down and pass it around, 33 bottles of beer on the wall.\n",
      "33 bottles of beer on the wall, 33 bottles of beer.\n",
      "Take one down and pass it around, 32 bottles of beer on the wall.\n",
      "32 bottles of beer on the wall, 32 bottles of beer.\n",
      "Take one down and pass it around, 31 bottles of beer on the wall.\n",
      "31 bottles of beer on the wall, 31 bottles of beer.\n",
      "Take one down and pass it around, 30 bottles of beer on the wall.\n",
      "30 bottles of beer on the wall, 30 bottles of beer.\n",
      "Take one down and pass it around, 29 bottles of beer on the wall.\n",
      "29 bottles of beer on the wall, 29 bottles of beer.\n",
      "Take one down and pass it around, 28 bottles of beer on the wall.\n",
      "28 bottles of beer on the wall, 28 bottles of beer.\n",
      "Take one down and pass it around, 27 bottles of beer on the wall.\n",
      "27 bottles of beer on the wall, 27 bottles of beer.\n",
      "Take one down and pass it around, 26 bottles of beer on the wall.\n",
      "26 bottles of beer on the wall, 26 bottles of beer.\n",
      "Take one down and pass it around, 25 bottles of beer on the wall.\n",
      "25 bottles of beer on the wall, 25 bottles of beer.\n",
      "Take one down and pass it around, 24 bottles of beer on the wall.\n",
      "24 bottles of beer on the wall, 24 bottles of beer.\n",
      "Take one down and pass it around, 23 bottles of beer on the wall.\n",
      "23 bottles of beer on the wall, 23 bottles of beer.\n",
      "Take one down and pass it around, 22 bottles of beer on the wall.\n",
      "22 bottles of beer on the wall, 22 bottles of beer.\n",
      "Take one down and pass it around, 21 bottles of beer on the wall.\n",
      "21 bottles of beer on the wall, 21 bottles of beer.\n",
      "Take one down and pass it around, 20 bottles of beer on the wall.\n",
      "20 bottles of beer on the wall, 20 bottles of beer.\n",
      "Take one down and pass it around, 19 bottles of beer on the wall.\n",
      "19 bottles of beer on the wall, 19 bottles of beer.\n",
      "Take one down and pass it around, 18 bottles of beer on the wall.\n",
      "18 bottles of beer on the wall, 18 bottles of beer.\n",
      "Take one down and pass it around, 17 bottles of beer on the wall.\n",
      "17 bottles of beer on the wall, 17 bottles of beer.\n",
      "Take one down and pass it around, 16 bottles of beer on the wall.\n",
      "16 bottles of beer on the wall, 16 bottles of beer.\n",
      "Take one down and pass it around, 15 bottles of beer on the wall.\n",
      "15 bottles of beer on the wall, 15 bottles of beer.\n",
      "Take one down and pass it around, 14 bottles of beer on the wall.\n",
      "14 bottles of beer on the wall, 14 bottles of beer.\n",
      "Take one down and pass it around, 13 bottles of beer on the wall.\n",
      "13 bottles of beer on the wall, 13 bottles of beer.\n",
      "Take one down and pass it around, 12 bottles of beer on the wall.\n",
      "12 bottles of beer on the wall, 12 bottles of beer.\n",
      "Take one down and pass it around, 11 bottles of beer on the wall.\n",
      "11 bottles of beer on the wall, 11 bottles of beer.\n",
      "Take one down and pass it around, 10 bottles of beer on the wall.\n",
      "10 bottles of beer on the wall, 10 bottles of beer.\n",
      "Take one down and pass it around, 9 bottles of beer on the wall.\n",
      "9 bottles of beer on the wall, 9 bottles of beer.\n",
      "Take one down and pass it around, 8 bottles of beer on the wall.\n",
      "8 bottles of beer on the wall, 8 bottles of beer.\n",
      "Take one down and pass it around, 7 bottles of beer on the wall.\n",
      "7 bottles of beer on the wall, 7 bottles of beer.\n",
      "Take one down and pass it around, 6 bottles of beer on the wall.\n",
      "6 bottles of beer on the wall, 6 bottles of beer.\n",
      "Take one down and pass it around, 5 bottles of beer on the wall.\n",
      "5 bottles of beer on the wall, 5 bottles of beer.\n",
      "Take one down and pass it around, 4 bottles of beer on the wall.\n",
      "4 bottles of beer on the wall, 4 bottles of beer.\n",
      "Take one down and pass it around, 3 bottles of beer on the wall.\n",
      "3 bottles of beer on the wall, 3 bottles of beer.\n",
      "Take one down and pass it around, 2 bottles of beer on the wall.\n",
      "2 bottles of beer on the wall, 2 bottles of beer.\n",
      "Take one down and pass it around, 1 bottles of beer on the wall.\n",
      "1 bottle of beer on the wall, 1 bottle of beer.\n",
      "Take one down and pass it around, no more bottles of beer on the wall.\n",
      "\n",
      "No more bottles of beer on the wall, no more bottles of beer.\n",
      "Go to the store and buy some more, 99 bottles of beer on the wall.\n"
     ]
    }
   ],
   "source": [
    "## Answer here....\n",
    "\n",
    "# Dont copy paste the text as str.. please...\n",
    "\n",
    "for pos in range(99,1,-1):\n",
    "\n",
    "    chunk = f\"\"\"{pos} bottles of beer on the wall, {pos} bottles of beer.\n",
    "Take one down and pass it around, {pos-1} bottles of beer on the wall.\"\"\"\n",
    "    print(chunk)\n",
    "    \n",
    "    \n",
    "last_few = \"\"\"1 bottle of beer on the wall, 1 bottle of beer.\n",
    "Take one down and pass it around, no more bottles of beer on the wall.\n",
    "\n",
    "No more bottles of beer on the wall, no more bottles of beer.\n",
    "Go to the store and buy some more, 99 bottles of beer on the wall.\"\"\"\n",
    "print(last_few)"
   ]
  },
  {
   "cell_type": "code",
   "execution_count": null,
   "metadata": {},
   "outputs": [],
   "source": []
  }
 ],
 "metadata": {
  "colab": {
   "collapsed_sections": [],
   "name": "Module 0 - Python foundation workshop.ipynb",
   "provenance": []
  },
  "kernelspec": {
   "display_name": "Python 3",
   "language": "python",
   "name": "python3"
  },
  "language_info": {
   "codemirror_mode": {
    "name": "ipython",
    "version": 3
   },
   "file_extension": ".py",
   "mimetype": "text/x-python",
   "name": "python",
   "nbconvert_exporter": "python",
   "pygments_lexer": "ipython3",
   "version": "3.7.3"
  }
 },
 "nbformat": 4,
 "nbformat_minor": 1
}
