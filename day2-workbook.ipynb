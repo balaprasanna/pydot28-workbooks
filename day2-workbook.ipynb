{
 "cells": [
  {
   "cell_type": "markdown",
   "metadata": {},
   "source": [
    "## Agenda for Day 2: Part 1(session 1)\n",
    "- Date: 03/02/2020 Evening 6:30-10:00\n",
    "\n",
    "\n",
    "---\n",
    "- functions\n",
    "- list  - intro to data-structures"
   ]
  },
  {
   "cell_type": "code",
   "execution_count": 3,
   "metadata": {},
   "outputs": [],
   "source": [
    "## revisit loops"
   ]
  },
  {
   "cell_type": "code",
   "execution_count": 4,
   "metadata": {},
   "outputs": [],
   "source": [
    "# while\n",
    "# for"
   ]
  },
  {
   "cell_type": "code",
   "execution_count": 12,
   "metadata": {},
   "outputs": [
    {
     "name": "stdout",
     "output_type": "stream",
     "text": [
      "Enter the total no of values:3\n",
      "Enter the value 010\n",
      "Enter the value 120\n",
      "Enter the value 230\n",
      "Total : 60\n"
     ]
    }
   ],
   "source": [
    "num = input(\"Enter the total no of values:\")\n",
    "num = int(num)\n",
    "\n",
    "index = 0\n",
    "acc = 0\n",
    "while index < num:\n",
    "    #collect input from the user\n",
    "    cur = int(input(f\"Enter the value {index}\"))\n",
    "    acc += cur\n",
    "    index += 1\n",
    "\n",
    "print(\"Total :\", acc)"
   ]
  },
  {
   "cell_type": "code",
   "execution_count": 11,
   "metadata": {},
   "outputs": [
    {
     "name": "stdout",
     "output_type": "stream",
     "text": [
      "Enter the total no of values:3\n",
      "Enter the value 010\n",
      "Enter the value 120\n",
      "Enter the value 230\n",
      "Total : 60\n"
     ]
    }
   ],
   "source": [
    "num = input(\"Enter the total no of values:\")\n",
    "num = int(num)\n",
    "acc = 0\n",
    "for index in range(num):\n",
    "    cur = int(input(f\"Enter the value {index}\"))\n",
    "    acc += cur\n",
    "print(\"Total :\", acc)"
   ]
  },
  {
   "cell_type": "code",
   "execution_count": 47,
   "metadata": {},
   "outputs": [],
   "source": [
    "# def welcome():\n",
    "#     pass\n",
    "\n",
    "# def welcome(name):\n",
    "#     print(f\"HI {name}, welcome to stackup\")\n",
    "    \n",
    "# def welcome(name):\n",
    "#     return f\"HI {name}, welcome to stackup\"\n",
    "\n",
    "\n",
    "# import math\n",
    "# math.pow(10)\n",
    "# import wget\n",
    "# wget.download(\"ds\")\n",
    "\n",
    "\n",
    "def calc(x,y, operator=\"+\"):\n",
    "    \"\"\"\n",
    "    This is a simple calculator function\n",
    "    Inputs: x,y (numbers)\n",
    "            operator = \"+\" default, any other operator can be passed\n",
    "                        must be string\n",
    "    Returns: value of {x} {operator} {y}\n",
    "             None, if the operator is invalid\n",
    "    \"\"\"\n",
    "    if operator in [\"+\", \"-\", \"*\", \"/\"]:\n",
    "        expr = f\"{x} {operator} {y}\"\n",
    "        res  = eval(expr)\n",
    "        return res\n",
    "    else:\n",
    "        return None\n",
    "    "
   ]
  },
  {
   "cell_type": "code",
   "execution_count": null,
   "metadata": {},
   "outputs": [],
   "source": []
  },
  {
   "cell_type": "code",
   "execution_count": 42,
   "metadata": {},
   "outputs": [
    {
     "name": "stdout",
     "output_type": "stream",
     "text": [
      "2\n",
      "30\n",
      "8\n",
      "None\n"
     ]
    }
   ],
   "source": [
    "res  = calc(1,2,operator=\"*\")\n",
    "print(res)\n",
    "res2 = calc(10,20)\n",
    "print(res2)\n",
    "res3 = calc(calc(1,2) , calc(2,3))\n",
    "print(res3)\n",
    "res4 = calc(1,2,operator=\")\") #None\n",
    "print(res4)"
   ]
  },
  {
   "cell_type": "code",
   "execution_count": null,
   "metadata": {},
   "outputs": [],
   "source": [
    "# from package import calc\n",
    "calc(<shift> + <tab>)"
   ]
  },
  {
   "cell_type": "code",
   "execution_count": 50,
   "metadata": {},
   "outputs": [],
   "source": [
    "calc??"
   ]
  },
  {
   "cell_type": "code",
   "execution_count": 48,
   "metadata": {},
   "outputs": [],
   "source": [
    "import wget"
   ]
  },
  {
   "cell_type": "code",
   "execution_count": 51,
   "metadata": {},
   "outputs": [],
   "source": [
    "wget.download??"
   ]
  },
  {
   "cell_type": "code",
   "execution_count": 27,
   "metadata": {},
   "outputs": [
    {
     "data": {
      "text/plain": [
       "'HI bala, welcome to stackup'"
      ]
     },
     "execution_count": 27,
     "metadata": {},
     "output_type": "execute_result"
    }
   ],
   "source": [
    "welcome(\"bala\")"
   ]
  },
  {
   "cell_type": "code",
   "execution_count": 28,
   "metadata": {},
   "outputs": [
    {
     "name": "stdout",
     "output_type": "stream",
     "text": [
      "HI 1, welcome to stackup\n"
     ]
    }
   ],
   "source": [
    "res = welcome(1)\n",
    "print(res)"
   ]
  },
  {
   "cell_type": "markdown",
   "metadata": {},
   "source": [
    "## Simple function exercises"
   ]
  },
  {
   "cell_type": "code",
   "execution_count": 53,
   "metadata": {},
   "outputs": [],
   "source": [
    "## more info on <> function exercise.ipynb notebook\n",
    "# Filename: day2-optional-function-exercise.ipynb"
   ]
  },
  {
   "cell_type": "code",
   "execution_count": 56,
   "metadata": {},
   "outputs": [
    {
     "name": "stdout",
     "output_type": "stream",
     "text": [
      "True\n",
      "True\n"
     ]
    }
   ],
   "source": [
    "## Exercise in class\n",
    "# 1. write the following functions\n",
    "# - AND (takes two inputs, returns the AND gate result)\n",
    "# - OR (takes two inputs, returns the OR gate result)\n",
    "# - NOT (takes 1 input, returns the NOT gate result)\n",
    "# - XOR (takes two inputs, returns the XOR gate result) \n",
    "\n",
    "\n",
    "\n",
    "## your code here..\n",
    "def AND(x,y):\n",
    "    if x == True and y == True:\n",
    "        return True\n",
    "    else:\n",
    "        return False\n",
    "\n",
    "def OR(x,y):\n",
    "    if x == False and y == False:\n",
    "        return False\n",
    "    else:\n",
    "        return True\n",
    "\n",
    "def XOR(x,y):\n",
    "    if x == y:\n",
    "        return False\n",
    "    else:\n",
    "        return True\n",
    "\n",
    "def NOT(x):\n",
    "    if x == True: return False\n",
    "    else        : return True\n",
    "    #False if x == True else True\n",
    "\n",
    "### Dont change this\n",
    "res1 = OR(True, NOT ( AND(True,True) ) )\n",
    "print(res1)  #should be True\n",
    "res2 = XOR(True,False)\n",
    "print(res2)  #True\n",
    "###"
   ]
  },
  {
   "cell_type": "code",
   "execution_count": 57,
   "metadata": {},
   "outputs": [
    {
     "name": "stdout",
     "output_type": "stream",
     "text": [
      "True\n",
      "True\n"
     ]
    }
   ],
   "source": [
    "def AND(x,y): return x and y\n",
    "\n",
    "def OR(x,y): return x or y\n",
    "\n",
    "def XOR(x,y): return False if x == y else True\n",
    "\n",
    "def NOT(x): return not x\n",
    "\n",
    "res1 = OR(True, NOT ( AND(True,True) ) )\n",
    "print(res1)  #should be True\n",
    "res2 = XOR(True,False)\n",
    "print(res2)  #True"
   ]
  },
  {
   "cell_type": "markdown",
   "metadata": {},
   "source": [
    "# class"
   ]
  },
  {
   "cell_type": "code",
   "execution_count": 63,
   "metadata": {},
   "outputs": [],
   "source": [
    "class LogicGates():\n",
    "    \n",
    "    def AND(self,x,y): return x and y\n",
    "\n",
    "    def OR(self,x,y): return x or y\n",
    "\n",
    "    def XOR(self,x,y): return False if x == y else True\n",
    "\n",
    "    def NOT(self, x): return not x"
   ]
  },
  {
   "cell_type": "code",
   "execution_count": 64,
   "metadata": {},
   "outputs": [],
   "source": [
    "#create an object from class\n",
    "lg = LogicGates()"
   ]
  },
  {
   "cell_type": "code",
   "execution_count": 65,
   "metadata": {},
   "outputs": [
    {
     "data": {
      "text/plain": [
       "False"
      ]
     },
     "execution_count": 65,
     "metadata": {},
     "output_type": "execute_result"
    }
   ],
   "source": [
    "#calling a method/function in a class\n",
    "lg.AND(True,False)"
   ]
  },
  {
   "cell_type": "code",
   "execution_count": 66,
   "metadata": {},
   "outputs": [
    {
     "data": {
      "text/plain": [
       "False"
      ]
     },
     "execution_count": 66,
     "metadata": {},
     "output_type": "execute_result"
    }
   ],
   "source": [
    "lg.NOT(True)"
   ]
  },
  {
   "cell_type": "code",
   "execution_count": 60,
   "metadata": {},
   "outputs": [
    {
     "name": "stdout",
     "output_type": "stream",
     "text": [
      "1 <class 'int'>\n",
      "1.5 <class 'float'>\n",
      "True <class 'bool'>\n",
      "hello <class 'str'>\n",
      "(1, 2, 3) <class 'tuple'>\n",
      "{10, 20} <class 'set'>\n",
      "[10, 20, 30] <class 'list'>\n",
      "{'a': 'apple'} <class 'dict'>\n"
     ]
    }
   ],
   "source": [
    "for item in [1,1.5,True, \"hello\",  (1,2,3), {10,20}, [10,20,30], {\"a\": \"apple\"}]:\n",
    "    print(item, type(item))"
   ]
  },
  {
   "cell_type": "code",
   "execution_count": 61,
   "metadata": {},
   "outputs": [
    {
     "data": {
      "text/plain": [
       "[10, 20]"
      ]
     },
     "execution_count": 61,
     "metadata": {},
     "output_type": "execute_result"
    }
   ],
   "source": [
    "a = [10,20]\n",
    "a."
   ]
  },
  {
   "cell_type": "code",
   "execution_count": null,
   "metadata": {},
   "outputs": [],
   "source": [
    "int\n",
    "float\n",
    "bool\n",
    "str\n",
    "\n",
    "list\n",
    "tuple\n",
    "dict"
   ]
  },
  {
   "cell_type": "code",
   "execution_count": null,
   "metadata": {},
   "outputs": [],
   "source": [
    "res1 = LogicGates.OR(True, LogicGates.NOT ( LogicGates.AND(True,True) ) )\n",
    "print(res1)  #should be True\n",
    "res2 = LogicGates.XOR(True,False)\n",
    "print(res2)  #True"
   ]
  },
  {
   "cell_type": "markdown",
   "metadata": {},
   "source": [
    "## List - basics\n",
    "- tuple\n",
    "- dict\n",
    "- str,set\n",
    "---\n",
    "## Classes & object\n",
    "---\n",
    "- modules"
   ]
  },
  {
   "cell_type": "code",
   "execution_count": 67,
   "metadata": {},
   "outputs": [
    {
     "name": "stdout",
     "output_type": "stream",
     "text": [
      "1 2\n"
     ]
    }
   ],
   "source": [
    "print(1,2)"
   ]
  },
  {
   "cell_type": "code",
   "execution_count": 68,
   "metadata": {},
   "outputs": [
    {
     "name": "stdout",
     "output_type": "stream",
     "text": [
      "1 2 3\n"
     ]
    }
   ],
   "source": [
    "print(1,2,3)"
   ]
  },
  {
   "cell_type": "code",
   "execution_count": 69,
   "metadata": {},
   "outputs": [
    {
     "name": "stdout",
     "output_type": "stream",
     "text": [
      "1 2 3 4 43 21\n"
     ]
    }
   ],
   "source": [
    "print(1,2,3,4,43,21)"
   ]
  },
  {
   "cell_type": "code",
   "execution_count": 70,
   "metadata": {},
   "outputs": [],
   "source": [
    "url = \"http://api.openweathermap.org/data/2.5/weather?APPID=8a81d247d650cb16469c4ba3ceb7d265&q=singapore\"\n"
   ]
  },
  {
   "cell_type": "code",
   "execution_count": 71,
   "metadata": {},
   "outputs": [],
   "source": [
    "from balautil import requestutil as R\n",
    "data = R.Get(url)"
   ]
  },
  {
   "cell_type": "code",
   "execution_count": 75,
   "metadata": {},
   "outputs": [
    {
     "data": {
      "text/plain": [
       "'broken clouds'"
      ]
     },
     "execution_count": 75,
     "metadata": {},
     "output_type": "execute_result"
    }
   ],
   "source": [
    "data['weather'][0]['description']"
   ]
  },
  {
   "cell_type": "code",
   "execution_count": null,
   "metadata": {},
   "outputs": [],
   "source": []
  }
 ],
 "metadata": {
  "kernelspec": {
   "display_name": "Python 3",
   "language": "python",
   "name": "python3"
  },
  "language_info": {
   "codemirror_mode": {
    "name": "ipython",
    "version": 3
   },
   "file_extension": ".py",
   "mimetype": "text/x-python",
   "name": "python",
   "nbconvert_exporter": "python",
   "pygments_lexer": "ipython3",
   "version": "3.7.3"
  }
 },
 "nbformat": 4,
 "nbformat_minor": 2
}
